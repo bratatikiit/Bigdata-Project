{
 "cells": [
  {
   "cell_type": "markdown",
   "id": "c0aef38e-a9e6-4cf5-9b08-8531366a4485",
   "metadata": {},
   "source": [
    "## Spark (using pyspark and sql spark different operation on test and train data)"
   ]
  },
  {
   "cell_type": "markdown",
   "id": "766abef0-7b89-451f-9d0a-23a8387d72a9",
   "metadata": {},
   "source": [
    "## Build spark session"
   ]
  },
  {
   "cell_type": "markdown",
   "id": "84ea5af7-962d-4106-abc7-0857c3cae8e3",
   "metadata": {},
   "source": [
    "**Spark Script for Reading CSV Data**\n",
    "This script demonstrates how to read a CSV file into a Spark DataFrame and explore its contents using SparkSession.\n",
    "\n",
    "* 1. Spark Session Initialization:\n",
    "\n",
    "Imports the SparkSession class from pyspark.sql.\n",
    "Creates a new SparkSession using the builder method.\n",
    "Sets the application name to \"Read CSV into DataFrame\" for identification in the Spark UI and logs (optional).\n",
    "Calls getOrCreate() to create a new SparkSession if it doesn't exist, or retrieve the existing one if it does.\n",
    "Stores the SparkSession in the variable spark.\n",
    " * 2.  Reading CSV File:\n",
    "\n",
    "Uses the spark.read.csv method to read the CSV file named \"test.csv\" into a DataFrame.\n",
    "Sets the header=True option (optional but recommended) to indicate that the CSV file has a header row containing column names.\n",
    "* 3. Exploring the DataFrame:\n",
    "\n",
    "Calls df.printSchema() to print the DataFrame schema, which shows the names and data types of each column.\n",
    "Calls df.show() to display the first few rows of the DataFrame, providing a glimpse of the data content.\n",
    "Running the Script:\n",
    "\n",
    "\n",
    "\n",
    "\n"
   ]
  },
  {
   "cell_type": "code",
   "execution_count": 1,
   "id": "ca9ca8e5-0fa3-4112-8aa5-41407f320067",
   "metadata": {},
   "outputs": [
    {
     "data": {
      "text/plain": [
       "pyspark.sql.session.SparkSession"
      ]
     },
     "execution_count": 1,
     "metadata": {},
     "output_type": "execute_result"
    }
   ],
   "source": [
    "# Import SparkSession\n",
    "from pyspark.sql import SparkSession\n",
    "\n",
    "# Create SparkSession \n",
    "spark = SparkSession.builder \\\n",
    "      .master(\"local[1]\") \\\n",
    "      .appName(\"SparkByExamples.com\") \\\n",
    "      .getOrCreate() \n",
    "type(spark)"
   ]
  },
  {
   "cell_type": "code",
   "execution_count": 2,
   "id": "0a0e6ae5-7a2f-4dc9-865b-84eb550b2b96",
   "metadata": {},
   "outputs": [
    {
     "data": {
      "text/plain": [
       "<bound method SparkSession.stop of <pyspark.sql.session.SparkSession object at 0x000001550B2DCE50>>"
      ]
     },
     "execution_count": 2,
     "metadata": {},
     "output_type": "execute_result"
    }
   ],
   "source": [
    "spark.stop"
   ]
  },
  {
   "cell_type": "code",
   "execution_count": 7,
   "id": "2e8a8334-db02-47cd-abe5-c38fdbc6aed3",
   "metadata": {},
   "outputs": [
    {
     "data": {
      "text/plain": [
       "207"
      ]
     },
     "execution_count": 7,
     "metadata": {},
     "output_type": "execute_result"
    }
   ],
   "source": [
    "# Create RDD from external Data source\n",
    "rdd = spark.sparkContext.textFile(\"C:/bigdata/source/projectbigdata/test.csv\")\n",
    "rdd.count()"
   ]
  },
  {
   "cell_type": "markdown",
   "id": "4b6f11cb-5b55-4b66-ad0d-4cad6201e1b3",
   "metadata": {},
   "source": [
    "## Reading test and train data using spark and Data Exploration"
   ]
  },
  {
   "cell_type": "code",
   "execution_count": 2,
   "id": "9f063487-a91d-4ab7-afd3-a5be1cc608a6",
   "metadata": {},
   "outputs": [
    {
     "name": "stdout",
     "output_type": "stream",
     "text": [
      "root\n",
      " |-- User_ID: integer (nullable = true)\n",
      " |-- Age: string (nullable = true)\n",
      " |-- Gender: string (nullable = true)\n",
      " |-- Platform: string (nullable = true)\n",
      " |-- Daily_Usage_Time (minutes): integer (nullable = true)\n",
      " |-- Posts_Per_Day: integer (nullable = true)\n",
      " |-- Likes_Received_Per_Day: integer (nullable = true)\n",
      " |-- Comments_Received_Per_Day: integer (nullable = true)\n",
      " |-- Messages_Sent_Per_Day: integer (nullable = true)\n",
      " |-- Dominant_Emotion: string (nullable = true)\n",
      "\n",
      "+-------+---+----------+---------+--------------------------+-------------+----------------------+-------------------------+---------------------+----------------+\n",
      "|User_ID|Age|    Gender| Platform|Daily_Usage_Time (minutes)|Posts_Per_Day|Likes_Received_Per_Day|Comments_Received_Per_Day|Messages_Sent_Per_Day|Dominant_Emotion|\n",
      "+-------+---+----------+---------+--------------------------+-------------+----------------------+-------------------------+---------------------+----------------+\n",
      "|    500| 27|    Female| Snapchat|                       120|            4|                    40|                       18|                   22|         Neutral|\n",
      "|    488| 21|Non-binary| Snapchat|                        60|            1|                    18|                        7|                   12|         Neutral|\n",
      "|    776| 28|Non-binary| Snapchat|                       115|            3|                    38|                       18|                   27|         Anxiety|\n",
      "|    869| 27|      Male| Telegram|                       105|            3|                    48|                       20|                   28|         Anxiety|\n",
      "|    573| 21|Non-binary| Facebook|                        55|            3|                    17|                        7|                   12|         Neutral|\n",
      "|    428| 25|    Female|Instagram|                       160|            6|                    85|                       26|                   30|       Happiness|\n",
      "|    528| 25|    Female|Instagram|                       160|            6|                    85|                       26|                   30|       Happiness|\n",
      "|    773| 21|Non-binary| Facebook|                        55|            3|                    17|                        7|                   12|         Neutral|\n",
      "|    382| 24|Non-binary| Snapchat|                        85|            3|                    33|                       20|                   18|       Happiness|\n",
      "|    505| 33|      Male| LinkedIn|                        45|            1|                    10|                        5|                   12|         Boredom|\n",
      "|     20| 32|    Female|Instagram|                       140|            5|                    70|                       22|                   33|       Happiness|\n",
      "|    444| 23|Non-binary| Facebook|                       105|            2|                    25|                       12|                   18|         Neutral|\n",
      "|    720| 32|    Female|Instagram|                       140|            6|                    75|                       28|                   30|       Happiness|\n",
      "|    328| 25|    Female|Instagram|                       160|            6|                    85|                       26|                   30|       Happiness|\n",
      "|    372| 35|      Male|  Twitter|                        70|            1|                    13|                        8|                   10|         Boredom|\n",
      "|    555| 31|      Male| LinkedIn|                        60|            1|                    15|                        7|                   17|         Anxiety|\n",
      "|    181| 31|      Male| Telegram|                        50|            2|                    20|                       10|                   12|         Sadness|\n",
      "|    413| 34|      Male| LinkedIn|                        65|            1|                    14|                        6|                   15|         Boredom|\n",
      "|    132| 28|      Male|Instagram|                       145|            5|                    75|                       20|                   35|       Happiness|\n",
      "|    743| 29|      Male|  Twitter|                        95|            4|                    50|                       22|                   22|           Anger|\n",
      "+-------+---+----------+---------+--------------------------+-------------+----------------------+-------------------------+---------------------+----------------+\n",
      "only showing top 20 rows\n",
      "\n",
      "root\n",
      " |-- User_ID: string (nullable = true)\n",
      " |-- Age: string (nullable = true)\n",
      " |-- Gender: string (nullable = true)\n",
      " |-- Platform: string (nullable = true)\n",
      " |-- Daily_Usage_Time (minutes): integer (nullable = true)\n",
      " |-- Posts_Per_Day: integer (nullable = true)\n",
      " |-- Likes_Received_Per_Day: integer (nullable = true)\n",
      " |-- Comments_Received_Per_Day: integer (nullable = true)\n",
      " |-- Messages_Sent_Per_Day: integer (nullable = true)\n",
      " |-- Dominant_Emotion: string (nullable = true)\n",
      "\n",
      "+-------+---+----------+---------+--------------------------+-------------+----------------------+-------------------------+---------------------+----------------+\n",
      "|User_ID|Age|    Gender| Platform|Daily_Usage_Time (minutes)|Posts_Per_Day|Likes_Received_Per_Day|Comments_Received_Per_Day|Messages_Sent_Per_Day|Dominant_Emotion|\n",
      "+-------+---+----------+---------+--------------------------+-------------+----------------------+-------------------------+---------------------+----------------+\n",
      "|      1| 25|    Female|Instagram|                       120|            3|                    45|                       10|                   12|       Happiness|\n",
      "|      2| 30|      Male|  Twitter|                        90|            5|                    20|                       25|                   30|           Anger|\n",
      "|      3| 22|Non-binary| Facebook|                        60|            2|                    15|                        5|                   20|         Neutral|\n",
      "|      4| 28|    Female|Instagram|                       200|            8|                   100|                       30|                   50|         Anxiety|\n",
      "|      5| 33|      Male| LinkedIn|                        45|            1|                     5|                        2|                   10|         Boredom|\n",
      "|      6| 21|      Male|Instagram|                       150|            4|                    60|                       15|                   25|       Happiness|\n",
      "|      7| 27|    Female|  Twitter|                        85|            3|                    30|                       10|                   18|           Anger|\n",
      "|      8| 24|Non-binary| Facebook|                       110|            6|                    25|                       12|                   22|         Sadness|\n",
      "|      9| 29|    Female| LinkedIn|                        55|            2|                    10|                        3|                    8|         Neutral|\n",
      "|     10| 31|      Male|Instagram|                       170|            5|                    80|                       20|                   35|       Happiness|\n",
      "|     11| 23|    Female|  Twitter|                        75|            4|                    35|                        7|                   20|         Anxiety|\n",
      "|     12| 26|Non-binary| Facebook|                        95|            3|                    20|                       10|                   18|         Sadness|\n",
      "|     13| 34|      Male| LinkedIn|                        65|            1|                    12|                        4|                   15|         Boredom|\n",
      "|     14| 22|    Female|Instagram|                       180|            7|                    90|                       25|                   40|       Happiness|\n",
      "|     15| 28|      Male|  Twitter|                       100|            6|                    40|                       23|                   28|           Anger|\n",
      "|     16| 21|Non-binary| Facebook|                        40|            1|                     5|                        2|                   10|         Neutral|\n",
      "|     17| 35|    Female|Instagram|                       125|            4|                    55|                       18|                   30|         Anxiety|\n",
      "|     18| 27|      Male|  Twitter|                        90|            3|                    33|                       15|                   25|         Sadness|\n",
      "|     19| 23|Non-binary| LinkedIn|                        50|            1|                     8|                        3|                   12|         Neutral|\n",
      "|     20| 32|    Female|Instagram|                       140|            5|                    70|                       22|                   33|       Happiness|\n",
      "+-------+---+----------+---------+--------------------------+-------------+----------------------+-------------------------+---------------------+----------------+\n",
      "only showing top 20 rows\n",
      "\n"
     ]
    }
   ],
   "source": [
    "from pyspark.sql import SparkSession\n",
    "\n",
    "# Initialize Spark session\n",
    "spark = SparkSession.builder.appName(\"PySparkExample\").getOrCreate()\n",
    "\n",
    "# Read test and train CSV files into DataFrames\n",
    "test_df = spark.read.csv(\"C:/bigdata/source/projectbigdata/test.csv\", header=True, inferSchema=True)\n",
    "train_df = spark.read.csv(\"C:/bigdata/source/projectbigdata/train.csv\", header=True, inferSchema=True)\n",
    "\n",
    "# Drop rows with null values\n",
    "test_df_clean = test_df.na.drop()\n",
    "train_df_clean = train_df.na.drop()\n",
    "\n",
    "# Show schema and data without null values\n",
    "test_df_clean.printSchema()\n",
    "test_df_clean.show()\n",
    "\n",
    "train_df_clean.printSchema()\n",
    "train_df_clean.show()\n"
   ]
  },
  {
   "cell_type": "markdown",
   "id": "84dbd155-af09-40de-ba77-128c0739105d",
   "metadata": {},
   "source": [
    "## Schema Display"
   ]
  },
  {
   "cell_type": "code",
   "execution_count": 6,
   "id": "56254582-0f9d-4709-afef-47b6ff609b3e",
   "metadata": {},
   "outputs": [
    {
     "name": "stdout",
     "output_type": "stream",
     "text": [
      "root\n",
      " |-- User_ID: integer (nullable = true)\n",
      " |-- Age: string (nullable = true)\n",
      " |-- Gender: string (nullable = true)\n",
      " |-- Platform: string (nullable = true)\n",
      " |-- Daily_Usage_Time (minutes): integer (nullable = true)\n",
      " |-- Posts_Per_Day: integer (nullable = true)\n",
      " |-- Likes_Received_Per_Day: integer (nullable = true)\n",
      " |-- Comments_Received_Per_Day: integer (nullable = true)\n",
      " |-- Messages_Sent_Per_Day: integer (nullable = true)\n",
      " |-- Dominant_Emotion: string (nullable = true)\n",
      "\n",
      "+-------+---+----------+---------+--------------------------+-------------+----------------------+-------------------------+---------------------+----------------+\n",
      "|User_ID|Age|    Gender| Platform|Daily_Usage_Time (minutes)|Posts_Per_Day|Likes_Received_Per_Day|Comments_Received_Per_Day|Messages_Sent_Per_Day|Dominant_Emotion|\n",
      "+-------+---+----------+---------+--------------------------+-------------+----------------------+-------------------------+---------------------+----------------+\n",
      "|    500| 27|    Female| Snapchat|                       120|            4|                    40|                       18|                   22|         Neutral|\n",
      "|    488| 21|Non-binary| Snapchat|                        60|            1|                    18|                        7|                   12|         Neutral|\n",
      "|    776| 28|Non-binary| Snapchat|                       115|            3|                    38|                       18|                   27|         Anxiety|\n",
      "|    869| 27|      Male| Telegram|                       105|            3|                    48|                       20|                   28|         Anxiety|\n",
      "|    573| 21|Non-binary| Facebook|                        55|            3|                    17|                        7|                   12|         Neutral|\n",
      "|    428| 25|    Female|Instagram|                       160|            6|                    85|                       26|                   30|       Happiness|\n",
      "|    528| 25|    Female|Instagram|                       160|            6|                    85|                       26|                   30|       Happiness|\n",
      "|    773| 21|Non-binary| Facebook|                        55|            3|                    17|                        7|                   12|         Neutral|\n",
      "|    382| 24|Non-binary| Snapchat|                        85|            3|                    33|                       20|                   18|       Happiness|\n",
      "|    505| 33|      Male| LinkedIn|                        45|            1|                    10|                        5|                   12|         Boredom|\n",
      "|     20| 32|    Female|Instagram|                       140|            5|                    70|                       22|                   33|       Happiness|\n",
      "|    444| 23|Non-binary| Facebook|                       105|            2|                    25|                       12|                   18|         Neutral|\n",
      "|    720| 32|    Female|Instagram|                       140|            6|                    75|                       28|                   30|       Happiness|\n",
      "|    328| 25|    Female|Instagram|                       160|            6|                    85|                       26|                   30|       Happiness|\n",
      "|    372| 35|      Male|  Twitter|                        70|            1|                    13|                        8|                   10|         Boredom|\n",
      "|    555| 31|      Male| LinkedIn|                        60|            1|                    15|                        7|                   17|         Anxiety|\n",
      "|    181| 31|      Male| Telegram|                        50|            2|                    20|                       10|                   12|         Sadness|\n",
      "|    413| 34|      Male| LinkedIn|                        65|            1|                    14|                        6|                   15|         Boredom|\n",
      "|    132| 28|      Male|Instagram|                       145|            5|                    75|                       20|                   35|       Happiness|\n",
      "|    743| 29|      Male|  Twitter|                        95|            4|                    50|                       22|                   22|           Anger|\n",
      "+-------+---+----------+---------+--------------------------+-------------+----------------------+-------------------------+---------------------+----------------+\n",
      "only showing top 20 rows\n",
      "\n"
     ]
    }
   ],
   "source": [
    "from pyspark.sql import SparkSession\n",
    "\n",
    "# Initialize Spark session\n",
    "spark = SparkSession.builder.appName(\"ReadCSVExample\").getOrCreate()\n",
    "\n",
    "# Read data from the CSV file with a header row\n",
    "file_path = \"C:/bigdata/source/projectbigdata/test.csv\"  # Ensure this is the correct path to your CSV file\n",
    "df = spark.read.csv(file_path, header=True, inferSchema=True)\n",
    "\n",
    "# Drop rows with null values\n",
    "test_df_clean = test_df.na.drop()\n",
    "\n",
    "\n",
    "# Show the DataFrame schema and data\n",
    "test_df_clean.printSchema()\n",
    "test_df_clean.show()\n"
   ]
  },
  {
   "cell_type": "code",
   "execution_count": 7,
   "id": "51239baf-9214-42c1-8c72-65378feec799",
   "metadata": {},
   "outputs": [
    {
     "name": "stdout",
     "output_type": "stream",
     "text": [
      "+-------+---+----------+---------+--------------------------+-------------+----------------------+-------------------------+---------------------+----------------+\n",
      "|User_ID|Age|    Gender| Platform|Daily_Usage_Time (minutes)|Posts_Per_Day|Likes_Received_Per_Day|Comments_Received_Per_Day|Messages_Sent_Per_Day|Dominant_Emotion|\n",
      "+-------+---+----------+---------+--------------------------+-------------+----------------------+-------------------------+---------------------+----------------+\n",
      "|    500| 27|    Female| Snapchat|                       120|            4|                    40|                       18|                   22|         Neutral|\n",
      "|    488| 21|Non-binary| Snapchat|                        60|            1|                    18|                        7|                   12|         Neutral|\n",
      "|    776| 28|Non-binary| Snapchat|                       115|            3|                    38|                       18|                   27|         Anxiety|\n",
      "|    869| 27|      Male| Telegram|                       105|            3|                    48|                       20|                   28|         Anxiety|\n",
      "|    573| 21|Non-binary| Facebook|                        55|            3|                    17|                        7|                   12|         Neutral|\n",
      "|    428| 25|    Female|Instagram|                       160|            6|                    85|                       26|                   30|       Happiness|\n",
      "|    528| 25|    Female|Instagram|                       160|            6|                    85|                       26|                   30|       Happiness|\n",
      "|    773| 21|Non-binary| Facebook|                        55|            3|                    17|                        7|                   12|         Neutral|\n",
      "|    382| 24|Non-binary| Snapchat|                        85|            3|                    33|                       20|                   18|       Happiness|\n",
      "|    505| 33|      Male| LinkedIn|                        45|            1|                    10|                        5|                   12|         Boredom|\n",
      "|     20| 32|    Female|Instagram|                       140|            5|                    70|                       22|                   33|       Happiness|\n",
      "|    444| 23|Non-binary| Facebook|                       105|            2|                    25|                       12|                   18|         Neutral|\n",
      "|    720| 32|    Female|Instagram|                       140|            6|                    75|                       28|                   30|       Happiness|\n",
      "|    328| 25|    Female|Instagram|                       160|            6|                    85|                       26|                   30|       Happiness|\n",
      "|    372| 35|      Male|  Twitter|                        70|            1|                    13|                        8|                   10|         Boredom|\n",
      "|    555| 31|      Male| LinkedIn|                        60|            1|                    15|                        7|                   17|         Anxiety|\n",
      "|    181| 31|      Male| Telegram|                        50|            2|                    20|                       10|                   12|         Sadness|\n",
      "|    413| 34|      Male| LinkedIn|                        65|            1|                    14|                        6|                   15|         Boredom|\n",
      "|    132| 28|      Male|Instagram|                       145|            5|                    75|                       20|                   35|       Happiness|\n",
      "|    743| 29|      Male|  Twitter|                        95|            4|                    50|                       22|                   22|           Anger|\n",
      "+-------+---+----------+---------+--------------------------+-------------+----------------------+-------------------------+---------------------+----------------+\n",
      "only showing top 20 rows\n",
      "\n"
     ]
    }
   ],
   "source": [
    "from pyspark.sql import SparkSession\n",
    "from pyspark.sql.types import StructType, StructField, StringType, IntegerType\n",
    "\n",
    "# Initialize Spark session\n",
    "spark = SparkSession.builder.appName(\"CSV to DataFrame\").getOrCreate()\n",
    "\n",
    "# Define the schema for  DataFrame\n",
    "schema = StructType([\n",
    "    StructField(\"User_ID\", IntegerType(), True),\n",
    "    StructField(\"Age\", IntegerType(), True),\n",
    "    StructField(\"Gender\", StringType(), True),\n",
    "    StructField(\"Platform\", StringType(), True),\n",
    "    StructField(\"Daily_Usage_Time (minutes)\", IntegerType(), True),\n",
    "    StructField(\"Posts_Per_Day\", IntegerType(), True),\n",
    "    StructField(\"Likes_Received_Per_Day\", IntegerType(), True),\n",
    "    StructField(\"Comments_Received_Per_Day\", IntegerType(), True),\n",
    "    StructField(\"Messages_Sent_Per_Day\", IntegerType(), True),\n",
    "    StructField(\"Dominant_Emotion\", StringType(), True)\n",
    "])\n",
    "\n",
    "# Read the CSV file into a DataFrame\n",
    "df = spark.read.csv(\"test.csv\", header=False, schema=schema)\n",
    "# Drop rows with null values\n",
    "test_df_clean = test_df.na.drop()\n",
    "\n",
    "# Display the DataFrame\n",
    "test_df_clean.show()\n",
    "\n",
    "# Stop the SparkSession if you created one in this script\n",
    "#spark.stop()\n"
   ]
  },
  {
   "cell_type": "markdown",
   "id": "bb27040b-e1d4-4e1d-a49e-243d3be7d241",
   "metadata": {},
   "source": [
    "## Read test.csv in pandaDataframe"
   ]
  },
  {
   "cell_type": "code",
   "execution_count": 8,
   "id": "e9b37197-9b3b-425b-8483-1804e5c06bc9",
   "metadata": {},
   "outputs": [
    {
     "name": "stdout",
     "output_type": "stream",
     "text": [
      "+-------+---+----------+---------+--------------------------+-------------+----------------------+-------------------------+---------------------+----------------+\n",
      "|User_ID|Age|    Gender| Platform|Daily_Usage_Time (minutes)|Posts_Per_Day|Likes_Received_Per_Day|Comments_Received_Per_Day|Messages_Sent_Per_Day|Dominant_Emotion|\n",
      "+-------+---+----------+---------+--------------------------+-------------+----------------------+-------------------------+---------------------+----------------+\n",
      "|User_ID|Age|    Gender| Platform|      Daily_Usage_Time ...|Posts_Per_Day|  Likes_Received_Pe...|     Comments_Received...| Messages_Sent_Per...|Dominant_Emotion|\n",
      "|    NaN|NaN|       NaN|      NaN|                       NaN|          NaN|                   NaN|                      NaN|                  NaN|             NaN|\n",
      "|    500| 27|    Female| Snapchat|                       120|            4|                    40|                       18|                   22|         Neutral|\n",
      "|    NaN|NaN|       NaN|      NaN|                       NaN|          NaN|                   NaN|                      NaN|                  NaN|             NaN|\n",
      "|    488| 21|Non-binary| Snapchat|                        60|            1|                    18|                        7|                   12|         Neutral|\n",
      "|    NaN|NaN|       NaN|      NaN|                       NaN|          NaN|                   NaN|                      NaN|                  NaN|             NaN|\n",
      "|    776| 28|Non-binary| Snapchat|                       115|            3|                    38|                       18|                   27|         Anxiety|\n",
      "|    NaN|NaN|       NaN|      NaN|                       NaN|          NaN|                   NaN|                      NaN|                  NaN|             NaN|\n",
      "|    869| 27|      Male| Telegram|                       105|            3|                    48|                       20|                   28|         Anxiety|\n",
      "|    NaN|NaN|       NaN|      NaN|                       NaN|          NaN|                   NaN|                      NaN|                  NaN|             NaN|\n",
      "|    573| 21|Non-binary| Facebook|                        55|            3|                    17|                        7|                   12|         Neutral|\n",
      "|    NaN|NaN|       NaN|      NaN|                       NaN|          NaN|                   NaN|                      NaN|                  NaN|             NaN|\n",
      "|    428| 25|    Female|Instagram|                       160|            6|                    85|                       26|                   30|       Happiness|\n",
      "|    NaN|NaN|       NaN|      NaN|                       NaN|          NaN|                   NaN|                      NaN|                  NaN|             NaN|\n",
      "|    528| 25|    Female|Instagram|                       160|            6|                    85|                       26|                   30|       Happiness|\n",
      "|    NaN|NaN|       NaN|      NaN|                       NaN|          NaN|                   NaN|                      NaN|                  NaN|             NaN|\n",
      "|    773| 21|Non-binary| Facebook|                        55|            3|                    17|                        7|                   12|         Neutral|\n",
      "|    NaN|NaN|       NaN|      NaN|                       NaN|          NaN|                   NaN|                      NaN|                  NaN|             NaN|\n",
      "|    382| 24|Non-binary| Snapchat|                        85|            3|                    33|                       20|                   18|       Happiness|\n",
      "|    NaN|NaN|       NaN|      NaN|                       NaN|          NaN|                   NaN|                      NaN|                  NaN|             NaN|\n",
      "+-------+---+----------+---------+--------------------------+-------------+----------------------+-------------------------+---------------------+----------------+\n",
      "only showing top 20 rows\n",
      "\n"
     ]
    }
   ],
   "source": [
    "import pandas as pd\n",
    "from pyspark.sql import SparkSession\n",
    "from datetime import datetime, date\n",
    "\n",
    "# Initialize Spark session\n",
    "spark = SparkSession.builder.appName(\"CSV to Spark DataFrame\").getOrCreate()\n",
    "\n",
    "# Define the path to your CSV file\n",
    "csv_file_path = 'test.csv'\n",
    "\n",
    "# Read the CSV file into a Pandas DataFrame\n",
    "pandas_df = pd.read_csv(csv_file_path, header=None, names=[\n",
    "    \"User_ID\", \"Age\", \"Gender\", \"Platform\", \"Daily_Usage_Time (minutes)\",\n",
    "    \"Posts_Per_Day\", \"Likes_Received_Per_Day\", \"Comments_Received_Per_Day\",\n",
    "    \"Messages_Sent_Per_Day\", \"Dominant_Emotion\"\n",
    "])\n",
    "\n",
    "# Convert the Pandas DataFrame to a Spark DataFrame\n",
    "test_df = spark.createDataFrame(pandas_df)\n",
    "# Drop rows with null values\n",
    "test_df_clean = test_df.na.drop()\n",
    "# Display the Spark DataFrame\n",
    "test_df_clean.show()\n",
    "\n",
    "# Stop the SparkSession\n",
    "#spark.stop()\n"
   ]
  },
  {
   "cell_type": "markdown",
   "id": "c67ce5de-b22e-4b66-b633-d1cff846be40",
   "metadata": {},
   "source": [
    "## Data Transformation with Grouping and Aggregation"
   ]
  },
  {
   "cell_type": "code",
   "execution_count": 9,
   "id": "e1405971-0af0-403e-95de-a0f902e19122",
   "metadata": {},
   "outputs": [
    {
     "name": "stdout",
     "output_type": "stream",
     "text": [
      "+---------+--------------------+----------+\n",
      "| Platform|avg_daily_usage_time|user_count|\n",
      "+---------+--------------------+----------+\n",
      "|Instagram|               153.4|       250|\n",
      "|  Twitter|               83.75|       200|\n",
      "| Snapchat|                90.0|        80|\n",
      "| LinkedIn|  55.833333333333336|       120|\n",
      "| Whatsapp|                87.5|        80|\n",
      "| Telegram|              78.125|        80|\n",
      "| Facebook|   72.10526315789474|       190|\n",
      "+---------+--------------------+----------+\n",
      "\n"
     ]
    }
   ],
   "source": [
    "from pyspark.sql.functions import col, avg, count\n",
    "\n",
    "# Filtering data\n",
    "filtered_test_df = test_df.filter(test_df[\"Daily_Usage_Time (minutes)\"] > 100)\n",
    "\n",
    "# Grouping and Aggregating data\n",
    "grouped_train_df = train_df.groupBy(\"Platform\").agg(\n",
    "    avg(\"Daily_Usage_Time (minutes)\").alias(\"avg_daily_usage_time\"),\n",
    "    count(\"User_ID\").alias(\"user_count\")\n",
    ")\n",
    "# Drop rows with null values\n",
    "grouped_train_df_clean = grouped_train_df.na.drop()\n",
    "# Show the grouped and aggregated DataFrame\n",
    "grouped_train_df_clean.show()\n",
    "\n",
    "\n",
    "\n"
   ]
  },
  {
   "cell_type": "markdown",
   "id": "1f81cc1e-77a8-4847-b7fc-daf1fa36969b",
   "metadata": {},
   "source": [
    "## Selecting Specific Columns"
   ]
  },
  {
   "cell_type": "code",
   "execution_count": 16,
   "id": "af4ddef7-14e4-4b97-b90e-f7140da9d367",
   "metadata": {},
   "outputs": [
    {
     "name": "stdout",
     "output_type": "stream",
     "text": [
      "+-------+---+----------+\n",
      "|User_ID|Age|    Gender|\n",
      "+-------+---+----------+\n",
      "|User_ID|Age|    Gender|\n",
      "|    NaN|NaN|       NaN|\n",
      "|    500| 27|    Female|\n",
      "|    NaN|NaN|       NaN|\n",
      "|    488| 21|Non-binary|\n",
      "|    NaN|NaN|       NaN|\n",
      "|    776| 28|Non-binary|\n",
      "|    NaN|NaN|       NaN|\n",
      "|    869| 27|      Male|\n",
      "|    NaN|NaN|       NaN|\n",
      "|    573| 21|Non-binary|\n",
      "|    NaN|NaN|       NaN|\n",
      "|    428| 25|    Female|\n",
      "|    NaN|NaN|       NaN|\n",
      "|    528| 25|    Female|\n",
      "|    NaN|NaN|       NaN|\n",
      "|    773| 21|Non-binary|\n",
      "|    NaN|NaN|       NaN|\n",
      "|    382| 24|Non-binary|\n",
      "|    NaN|NaN|       NaN|\n",
      "+-------+---+----------+\n",
      "only showing top 20 rows\n",
      "\n"
     ]
    }
   ],
   "source": [
    "# Select specific columns\n",
    "selected_test_df = test_df.select(\"User_ID\", \"Age\", \"Gender\")\n",
    "\n",
    "# Drop rows with null values\n",
    "test_df_clean = selected_test_df.na.drop()\n",
    "test_df_clean.show()\n"
   ]
  },
  {
   "cell_type": "markdown",
   "id": "63ecae6d-cb8b-47b0-a7ad-fab154e646e0",
   "metadata": {},
   "source": [
    " ## SQL Queries"
   ]
  },
  {
   "cell_type": "code",
   "execution_count": 3,
   "id": "2e374781-71a2-41ee-9a59-3e9c433b2c17",
   "metadata": {},
   "outputs": [
    {
     "name": "stdout",
     "output_type": "stream",
     "text": [
      "SQL Query Result:\n",
      "+--------------------------+\n",
      "|Daily_Usage_Time (minutes)|\n",
      "+--------------------------+\n",
      "|                       120|\n",
      "|                       115|\n",
      "|                       105|\n",
      "|                       160|\n",
      "|                       160|\n",
      "|                       140|\n",
      "|                       105|\n",
      "|                       140|\n",
      "|                       160|\n",
      "|                       145|\n",
      "|                       120|\n",
      "|                       140|\n",
      "|                       115|\n",
      "|                       145|\n",
      "|                       165|\n",
      "|                       120|\n",
      "|                       120|\n",
      "|                       115|\n",
      "|                       105|\n",
      "|                       120|\n",
      "+--------------------------+\n",
      "only showing top 20 rows\n",
      "\n"
     ]
    }
   ],
   "source": [
    "# Register DataFrames as temporary views\n",
    "test_df.createOrReplaceTempView(\"test\")\n",
    "train_df.createOrReplaceTempView(\"train\")\n",
    "\n",
    "# Run SQL queries\n",
    "result_df = spark.sql(\"SELECT * FROM test WHERE `Daily_Usage_Time (minutes)` > 100\")\n",
    "selected_columns_df = result_df.select(\"Daily_Usage_Time (minutes)\")\n",
    "print(\"SQL Query Result:\")\n",
    "# Show the result\n",
    "selected_columns_df.show()\n",
    "\n",
    "#result_df.show()\n"
   ]
  },
  {
   "cell_type": "markdown",
   "id": "6b6480fb-71c7-4df7-985d-3d57988e20af",
   "metadata": {},
   "source": [
    "## Joining DataFrames"
   ]
  },
  {
   "cell_type": "code",
   "execution_count": 12,
   "id": "4bd22f89-a868-4e1b-b4e1-bb0623c9ba80",
   "metadata": {},
   "outputs": [
    {
     "name": "stdout",
     "output_type": "stream",
     "text": [
      "Joined DataFrame:\n",
      "+-------+---+----------+---------+--------------------------+-------------+----------------------+-------------------------+---------------------+----------------+-------+---+----------+---------+--------------------------+-------------+----------------------+-------------------------+---------------------+----------------+\n",
      "|User_ID|Age|    Gender| Platform|Daily_Usage_Time (minutes)|Posts_Per_Day|Likes_Received_Per_Day|Comments_Received_Per_Day|Messages_Sent_Per_Day|Dominant_Emotion|User_ID|Age|    Gender| Platform|Daily_Usage_Time (minutes)|Posts_Per_Day|Likes_Received_Per_Day|Comments_Received_Per_Day|Messages_Sent_Per_Day|Dominant_Emotion|\n",
      "+-------+---+----------+---------+--------------------------+-------------+----------------------+-------------------------+---------------------+----------------+-------+---+----------+---------+--------------------------+-------------+----------------------+-------------------------+---------------------+----------------+\n",
      "|    500| 27|    Female| Snapchat|                       120|            4|                    40|                       18|                   22|         Neutral|    500| 27|    Female| Snapchat|                       120|            4|                    40|                       18|                   22|         Neutral|\n",
      "|    488| 21|Non-binary| Snapchat|                        60|            1|                    18|                        7|                   12|         Neutral|    488| 21|Non-binary| Snapchat|                        60|            1|                    18|                        7|                   12|         Neutral|\n",
      "|    776| 28|Non-binary| Snapchat|                       115|            3|                    38|                       18|                   27|         Anxiety|    776| 28|Non-binary| Snapchat|                       115|            3|                    38|                       18|                   27|         Anxiety|\n",
      "|    776| 28|Non-binary| Snapchat|                       115|            3|                    38|                       18|                   27|         Anxiety|    776| 28|Non-binary| Snapchat|                       115|            3|                    38|                       18|                   27|         Anxiety|\n",
      "|    869| 27|      Male| Telegram|                       105|            3|                    48|                       20|                   28|         Anxiety|    869| 27|      Male| Telegram|                       105|            3|                    48|                       20|                   28|         Anxiety|\n",
      "|    573| 21|Non-binary| Facebook|                        55|            3|                    17|                        7|                   12|         Neutral|    573| 21|Non-binary| Facebook|                        55|            3|                    17|                        7|                   12|         Neutral|\n",
      "|    428| 25|    Female|Instagram|                       160|            6|                    85|                       26|                   30|       Happiness|    428| 25|    Female|Instagram|                       160|            6|                    85|                       26|                   30|       Happiness|\n",
      "|    528| 25|    Female|Instagram|                       160|            6|                    85|                       26|                   30|       Happiness|    528| 25|    Female|Instagram|                       160|            6|                    85|                       26|                   30|       Happiness|\n",
      "|    773| 21|Non-binary| Facebook|                        55|            3|                    17|                        7|                   12|         Neutral|    773| 21|Non-binary| Facebook|                        55|            3|                    17|                        7|                   12|         Neutral|\n",
      "|    382| 24|Non-binary| Snapchat|                        85|            3|                    33|                       20|                   18|       Happiness|    382| 24|Non-binary| Snapchat|                        85|            3|                    33|                       20|                   18|       Happiness|\n",
      "|    505| 33|      Male| LinkedIn|                        45|            1|                    10|                        5|                   12|         Boredom|    505| 33|      Male| LinkedIn|                        45|            1|                    10|                        5|                   12|         Boredom|\n",
      "|     20| 32|    Female|Instagram|                       140|            5|                    70|                       22|                   33|       Happiness|     20| 32|    Female|Instagram|                       140|            5|                    70|                       22|                   33|       Happiness|\n",
      "|    444| 23|Non-binary| Facebook|                       105|            2|                    25|                       12|                   18|         Neutral|    444| 23|Non-binary| Facebook|                       105|            2|                    25|                       12|                   18|         Neutral|\n",
      "|    720| 32|    Female|Instagram|                       140|            6|                    75|                       28|                   30|       Happiness|    720| 32|    Female|Instagram|                       140|            6|                    75|                       28|                   30|       Happiness|\n",
      "|    328| 25|    Female|Instagram|                       160|            6|                    85|                       26|                   30|       Happiness|    328| 25|    Female|Instagram|                       160|            6|                    85|                       26|                   30|       Happiness|\n",
      "|    372| 35|      Male|  Twitter|                        70|            1|                    13|                        8|                   10|         Boredom|    372| 35|      Male|  Twitter|                        70|            1|                    13|                        8|                   10|         Boredom|\n",
      "|    555| 31|      Male| LinkedIn|                        60|            1|                    15|                        7|                   17|         Anxiety|    555| 31|      Male| LinkedIn|                        60|            1|                    15|                        7|                   17|         Anxiety|\n",
      "|    181| 31|      Male| Telegram|                        50|            2|                    20|                       10|                   12|         Sadness|    181| 31|      Male| Telegram|                        50|            2|                    20|                       10|                   12|         Sadness|\n",
      "|    413| 34|      Male| LinkedIn|                        65|            1|                    14|                        6|                   15|         Boredom|    413| 34|      Male| LinkedIn|                        65|            1|                    14|                        6|                   15|         Boredom|\n",
      "|    132| 28|      Male|Instagram|                       145|            5|                    75|                       20|                   35|       Happiness|    132| 28|      Male|Instagram|                       145|            5|                    75|                       20|                   35|       Happiness|\n",
      "+-------+---+----------+---------+--------------------------+-------------+----------------------+-------------------------+---------------------+----------------+-------+---+----------+---------+--------------------------+-------------+----------------------+-------------------------+---------------------+----------------+\n",
      "only showing top 20 rows\n",
      "\n"
     ]
    }
   ],
   "source": [
    "# Join test and train DataFrames on User_ID\n",
    "joined_df = test_df.join(train_df, test_df[\"User_ID\"] == train_df[\"User_ID\"], \"inner\")\n",
    "print(\"Joined DataFrame:\")\n",
    "joined_df.show()\n"
   ]
  },
  {
   "cell_type": "markdown",
   "id": "6a0e5117-52fc-49c7-9d4e-69fa54efe829",
   "metadata": {},
   "source": [
    "## Handling Missing Data"
   ]
  },
  {
   "cell_type": "code",
   "execution_count": 13,
   "id": "8b15f166-6ae6-4a7a-bb7f-b9b624e9f70d",
   "metadata": {},
   "outputs": [],
   "source": [
    "# Drop rows with any null values\n",
    "test_df_cleaned = test_df.na.drop()\n",
    "\n",
    "# Fill missing values with a specified value\n",
    "train_df_filled = train_df.na.fill({\"Posts_Per_Day\": 0})\n"
   ]
  },
  {
   "cell_type": "markdown",
   "id": "abf68573-ed77-4981-95de-ac01275c4615",
   "metadata": {},
   "source": [
    "## Adding Columns"
   ]
  },
  {
   "cell_type": "code",
   "execution_count": 15,
   "id": "702913d5-919d-4c2f-9fc0-4ae63d709637",
   "metadata": {},
   "outputs": [
    {
     "name": "stdout",
     "output_type": "stream",
     "text": [
      "+--------------------------+------------------+\n",
      "|Daily_Usage_Time (minutes)|squared_usage_time|\n",
      "+--------------------------+------------------+\n",
      "|                       120|             14400|\n",
      "|                        60|              3600|\n",
      "|                       115|             13225|\n",
      "|                       105|             11025|\n",
      "|                        55|              3025|\n",
      "|                       160|             25600|\n",
      "|                       160|             25600|\n",
      "|                        55|              3025|\n",
      "|                        85|              7225|\n",
      "|                        45|              2025|\n",
      "|                       140|             19600|\n",
      "|                       105|             11025|\n",
      "|                       140|             19600|\n",
      "|                       160|             25600|\n",
      "|                        70|              4900|\n",
      "|                        60|              3600|\n",
      "|                        50|              2500|\n",
      "|                        65|              4225|\n",
      "|                       145|             21025|\n",
      "|                        95|              9025|\n",
      "+--------------------------+------------------+\n",
      "only showing top 20 rows\n",
      "\n"
     ]
    }
   ],
   "source": [
    "from pyspark.sql import SparkSession\n",
    "from pyspark.sql.functions import udf, col\n",
    "from pyspark.sql.types import IntegerType\n",
    "\n",
    "# Initialize Spark session\n",
    "spark = SparkSession.builder.appName(\"ApplyUDFExample\").getOrCreate()\n",
    "\n",
    "# Read the CSV file\n",
    "df = spark.read.csv(\"test.csv\", header=True, inferSchema=True)\n",
    "\n",
    "# Define a simple UDF\n",
    "def square(x):\n",
    "    if x is not None:\n",
    "        return x * x\n",
    "    else:\n",
    "        return None\n",
    "\n",
    "# Register the UDF\n",
    "square_udf = udf(square, IntegerType())\n",
    "\n",
    "# Apply the UDF to create a new column\n",
    "df_with_square = df.withColumn(\"squared_usage_time\", square_udf(col(\"Daily_Usage_Time (minutes)\")))\n",
    "\n",
    "# Select only the columns you want to display\n",
    "selected_columns_df = df_with_square.select(\"Daily_Usage_Time (minutes)\", \"squared_usage_time\")\n",
    "# Drop rows with any null values\n",
    "test_df_cleaned = selected_columns_df.na.drop()\n",
    "# Show the result\n",
    "#test_df_cleaned.show()\n",
    "test_df_cleaned.show()"
   ]
  },
  {
   "cell_type": "markdown",
   "id": "c343194f-0874-4148-aad0-63816892291d",
   "metadata": {},
   "source": [
    " ## User-Defined Functions (UDFs)"
   ]
  },
  {
   "cell_type": "code",
   "execution_count": 17,
   "id": "04261c82-360b-4412-9e15-b62704c97e17",
   "metadata": {},
   "outputs": [
    {
     "name": "stdout",
     "output_type": "stream",
     "text": [
      "+--------+--------------------------+----------+\n",
      "|Platform|Daily_Usage_Time (minutes)|Row_Number|\n",
      "+--------+--------------------------+----------+\n",
      "|Facebook|                        40|         1|\n",
      "|Facebook|                        45|         2|\n",
      "|Facebook|                        55|         3|\n",
      "|Facebook|                        55|         4|\n",
      "|Facebook|                        60|         5|\n",
      "|Facebook|                        60|         6|\n",
      "|Facebook|                        60|         7|\n",
      "|Facebook|                        60|         8|\n",
      "|Facebook|                        60|         9|\n",
      "|Facebook|                        65|        10|\n",
      "|Facebook|                        70|        11|\n",
      "|Facebook|                        70|        12|\n",
      "|Facebook|                        75|        13|\n",
      "|Facebook|                        75|        14|\n",
      "|Facebook|                        75|        15|\n",
      "|Facebook|                        75|        16|\n",
      "|Facebook|                        80|        17|\n",
      "|Facebook|                        80|        18|\n",
      "|Facebook|                        80|        19|\n",
      "|Facebook|                        85|        20|\n",
      "+--------+--------------------------+----------+\n",
      "only showing top 20 rows\n",
      "\n"
     ]
    }
   ],
   "source": [
    "from pyspark.sql import SparkSession\n",
    "from pyspark.sql.window import Window\n",
    "from pyspark.sql.functions import row_number\n",
    "\n",
    "# Initialize Spark session\n",
    "spark = SparkSession.builder.appName(\"PySparkExample\").getOrCreate()\n",
    "\n",
    "# Read test CSV file into DataFrame\n",
    "test_df = spark.read.csv(\"C:/bigdata/source/projectbigdata/test.csv\", header=True, inferSchema=True)\n",
    "\n",
    "# Drop rows with null values\n",
    "test_df_clean = test_df.na.drop()\n",
    "\n",
    "# Define window specification\n",
    "window_spec = Window.partitionBy(\"Platform\").orderBy(\"Daily_Usage_Time (minutes)\")\n",
    "\n",
    "# Add row number\n",
    "test_df_with_row_number = test_df_clean.withColumn(\"Row_Number\", row_number().over(window_spec))\n",
    "\n",
    "# Select specific columns including the new row number column\n",
    "selected_columns_df = test_df_with_row_number.select(\"Platform\", \"Daily_Usage_Time (minutes)\", \"Row_Number\")\n",
    "\n",
    "# Display the DataFrame with the selected columns\n",
    "selected_columns_df.show()\n"
   ]
  },
  {
   "cell_type": "markdown",
   "id": "71ad3430-6cd7-4f4d-bb55-86dc24a9aa39",
   "metadata": {},
   "source": [
    "## New column addition"
   ]
  },
  {
   "cell_type": "code",
   "execution_count": 14,
   "id": "f4049500-079c-4801-aa6c-15f4f99e01b6",
   "metadata": {},
   "outputs": [
    {
     "name": "stdout",
     "output_type": "stream",
     "text": [
      "+-------+---+----------+---------+--------------------------+-------------+----------------------+-------------------------+---------------------+----------------+\n",
      "|User_ID|Age|    Gender| Platform|Daily_Usage_Time (minutes)|Posts_Per_Day|Likes_Received_Per_Day|Comments_Received_Per_Day|Messages_Sent_Per_Day|Dominant_Emotion|\n",
      "+-------+---+----------+---------+--------------------------+-------------+----------------------+-------------------------+---------------------+----------------+\n",
      "|    500| 27|    Female| Snapchat|                       120|            4|                    40|                       18|                   22|         Neutral|\n",
      "|    488| 21|Non-binary| Snapchat|                        60|            1|                    18|                        7|                   12|         Neutral|\n",
      "|    776| 28|Non-binary| Snapchat|                       115|            3|                    38|                       18|                   27|         Anxiety|\n",
      "|    869| 27|      Male| Telegram|                       105|            3|                    48|                       20|                   28|         Anxiety|\n",
      "|    573| 21|Non-binary| Facebook|                        55|            3|                    17|                        7|                   12|         Neutral|\n",
      "|    428| 25|    Female|Instagram|                       160|            6|                    85|                       26|                   30|       Happiness|\n",
      "|    528| 25|    Female|Instagram|                       160|            6|                    85|                       26|                   30|       Happiness|\n",
      "|    773| 21|Non-binary| Facebook|                        55|            3|                    17|                        7|                   12|         Neutral|\n",
      "|    382| 24|Non-binary| Snapchat|                        85|            3|                    33|                       20|                   18|       Happiness|\n",
      "|    505| 33|      Male| LinkedIn|                        45|            1|                    10|                        5|                   12|         Boredom|\n",
      "|     20| 32|    Female|Instagram|                       140|            5|                    70|                       22|                   33|       Happiness|\n",
      "|    444| 23|Non-binary| Facebook|                       105|            2|                    25|                       12|                   18|         Neutral|\n",
      "|    720| 32|    Female|Instagram|                       140|            6|                    75|                       28|                   30|       Happiness|\n",
      "|    328| 25|    Female|Instagram|                       160|            6|                    85|                       26|                   30|       Happiness|\n",
      "|    372| 35|      Male|  Twitter|                        70|            1|                    13|                        8|                   10|         Boredom|\n",
      "|    555| 31|      Male| LinkedIn|                        60|            1|                    15|                        7|                   17|         Anxiety|\n",
      "|    181| 31|      Male| Telegram|                        50|            2|                    20|                       10|                   12|         Sadness|\n",
      "|    413| 34|      Male| LinkedIn|                        65|            1|                    14|                        6|                   15|         Boredom|\n",
      "|    132| 28|      Male|Instagram|                       145|            5|                    75|                       20|                   35|       Happiness|\n",
      "|    743| 29|      Male|  Twitter|                        95|            4|                    50|                       22|                   22|           Anger|\n",
      "+-------+---+----------+---------+--------------------------+-------------+----------------------+-------------------------+---------------------+----------------+\n",
      "only showing top 20 rows\n",
      "\n",
      "+-------+---+----------+---------+--------------------------+-------------+----------------------+-------------------------+---------------------+----------------+\n",
      "|User_ID|Age|    Gender| Platform|Daily_Usage_Time (minutes)|Posts_Per_Day|Likes_Received_Per_Day|Comments_Received_Per_Day|Messages_Sent_Per_Day|Dominant_Emotion|\n",
      "+-------+---+----------+---------+--------------------------+-------------+----------------------+-------------------------+---------------------+----------------+\n",
      "|    500| 27|    Female| Snapchat|                       120|            4|                    40|                       18|                   22|         Neutral|\n",
      "|    488| 21|Non-binary| Snapchat|                        60|            1|                    18|                        7|                   12|         Neutral|\n",
      "|    776| 28|Non-binary| Snapchat|                       115|            3|                    38|                       18|                   27|         Anxiety|\n",
      "|    869| 27|      Male| Telegram|                       105|            3|                    48|                       20|                   28|         Anxiety|\n",
      "|    573| 21|Non-binary| Facebook|                        55|            3|                    17|                        7|                   12|         Neutral|\n",
      "|    428| 25|    Female|Instagram|                       160|            6|                    85|                       26|                   30|       Happiness|\n",
      "|    528| 25|    Female|Instagram|                       160|            6|                    85|                       26|                   30|       Happiness|\n",
      "|    773| 21|Non-binary| Facebook|                        55|            3|                    17|                        7|                   12|         Neutral|\n",
      "|    382| 24|Non-binary| Snapchat|                        85|            3|                    33|                       20|                   18|       Happiness|\n",
      "|    505| 33|      Male| LinkedIn|                        45|            1|                    10|                        5|                   12|         Boredom|\n",
      "|     20| 32|    Female|Instagram|                       140|            5|                    70|                       22|                   33|       Happiness|\n",
      "|    444| 23|Non-binary| Facebook|                       105|            2|                    25|                       12|                   18|         Neutral|\n",
      "|    720| 32|    Female|Instagram|                       140|            6|                    75|                       28|                   30|       Happiness|\n",
      "|    328| 25|    Female|Instagram|                       160|            6|                    85|                       26|                   30|       Happiness|\n",
      "|    372| 35|      Male|  Twitter|                        70|            1|                    13|                        8|                   10|         Boredom|\n",
      "|    555| 31|      Male| LinkedIn|                        60|            1|                    15|                        7|                   17|         Anxiety|\n",
      "|    181| 31|      Male| Telegram|                        50|            2|                    20|                       10|                   12|         Sadness|\n",
      "|    413| 34|      Male| LinkedIn|                        65|            1|                    14|                        6|                   15|         Boredom|\n",
      "|    132| 28|      Male|Instagram|                       145|            5|                    75|                       20|                   35|       Happiness|\n",
      "|    743| 29|      Male|  Twitter|                        95|            4|                    50|                       22|                   22|           Anger|\n",
      "+-------+---+----------+---------+--------------------------+-------------+----------------------+-------------------------+---------------------+----------------+\n",
      "only showing top 20 rows\n",
      "\n"
     ]
    }
   ],
   "source": [
    "from pyspark.sql import SparkSession\n",
    "from pyspark.sql.functions import lit, col\n",
    "\n",
    "# Initialize Spark session\n",
    "spark = SparkSession.builder.appName(\"AddColumnsExample\").getOrCreate()\n",
    "\n",
    "# Read the CSV file\n",
    "test_df = spark.read.csv(\"test.csv\", header=True, inferSchema=True)\n",
    "\n",
    "# Add a constant value column\n",
    "test_df_with_const = test_df.withColumn(\"new_column_const\", lit(100))\n",
    "\n",
    "# Add a derived column\n",
    "test_df_with_derived = test_df.withColumn(\"new_column_derived\", col(\"Daily_Usage_Time (minutes)\") * 2)\n",
    "test_df_with_const = df.na.drop()\n",
    "# Show the result with constant value column\n",
    "test_df_with_const.show()\n",
    "# Drop rows with any null values\n",
    "test_df_with_derived = df.na.drop()\n",
    "\n",
    "# Show the result with derived column\n",
    "test_df_with_derived.show()\n"
   ]
  },
  {
   "cell_type": "markdown",
   "id": "3e55cad7-7848-4411-bc2f-586cccf8614a",
   "metadata": {},
   "source": [
    "## uppercase"
   ]
  },
  {
   "cell_type": "code",
   "execution_count": 11,
   "id": "98b9d412-3f46-44d6-b677-799080bb197e",
   "metadata": {},
   "outputs": [
    {
     "name": "stdout",
     "output_type": "stream",
     "text": [
      "+---------+--------------+\n",
      "|Platform |upper_platform|\n",
      "+---------+--------------+\n",
      "|Snapchat |SNAPCHAT      |\n",
      "|Snapchat |SNAPCHAT      |\n",
      "|Snapchat |SNAPCHAT      |\n",
      "|Telegram |TELEGRAM      |\n",
      "|Facebook |FACEBOOK      |\n",
      "|Instagram|INSTAGRAM     |\n",
      "|Instagram|INSTAGRAM     |\n",
      "|Facebook |FACEBOOK      |\n",
      "|Snapchat |SNAPCHAT      |\n",
      "|LinkedIn |LINKEDIN      |\n",
      "|Instagram|INSTAGRAM     |\n",
      "|Facebook |FACEBOOK      |\n",
      "|Instagram|INSTAGRAM     |\n",
      "|Instagram|INSTAGRAM     |\n",
      "|Twitter  |TWITTER       |\n",
      "|LinkedIn |LINKEDIN      |\n",
      "|Telegram |TELEGRAM      |\n",
      "|LinkedIn |LINKEDIN      |\n",
      "|Instagram|INSTAGRAM     |\n",
      "|Twitter  |TWITTER       |\n",
      "+---------+--------------+\n",
      "only showing top 20 rows\n",
      "\n"
     ]
    }
   ],
   "source": [
    "from pyspark.sql import SparkSession\n",
    "from pyspark.sql.functions import upper, col\n",
    "\n",
    "# Initialize Spark session\n",
    "spark = SparkSession.builder.appName(\"UpperCaseExample\").getOrCreate()\n",
    "\n",
    "# Read the CSV file\n",
    "test_df = spark.read.csv(\"test.csv\", header=True, inferSchema=True)\n",
    "\n",
    "# Convert Platform column to uppercase\n",
    "test_df_upper = test_df.withColumn(\"upper_platform\", upper(col(\"Platform\")))\n",
    "\n",
    "# Remove rows with null values in the Platform column\n",
    "test_df_upper_non_null = test_df_upper.na.drop(subset=[\"Platform\"])\n",
    "\n",
    "# Select the Platform and upper_platform columns\n",
    "selected_columns_df = test_df_upper_non_null.select(\"Platform\", \"upper_platform\")\n",
    "\n",
    "# Show the result\n",
    "selected_columns_df.show(truncate=False)\n"
   ]
  },
  {
   "cell_type": "markdown",
   "id": "f7391b7c-76a0-40da-aaf9-c2f45b0edc60",
   "metadata": {},
   "source": [
    "## Pivot "
   ]
  },
  {
   "cell_type": "code",
   "execution_count": 20,
   "id": "59621db1-8384-4326-b959-186239919adb",
   "metadata": {},
   "outputs": [
    {
     "name": "stdout",
     "output_type": "stream",
     "text": [
      "Pivoted DataFrame:\n",
      "+--------------------+----+------------------+------------------+------------------+--------+--------+-----------------+--------+\n",
      "|                 Age|null|          Facebook|         Instagram|          LinkedIn|Snapchat|Telegram|          Twitter|Whatsapp|\n",
      "+--------------------+----+------------------+------------------+------------------+--------+--------+-----------------+--------+\n",
      "|                  29|NULL| 70.88235294117646|              NULL|              57.5|    75.0|    NULL|             95.0|    90.0|\n",
      "| işte mevcut veri...|NULL|              NULL|              NULL|              NULL|    NULL|    NULL|             NULL|    NULL|\n",
      "|                  30|NULL|              NULL|             175.0|              NULL|    NULL|    NULL|83.33333333333333|    NULL|\n",
      "|                  34|NULL|              NULL|             120.0|              65.0|    NULL|    80.0|             NULL|    NULL|\n",
      "|                  22|NULL|              65.0|             147.5|              NULL|    75.0|    NULL|             70.0|    70.0|\n",
      "|                  28|NULL|             100.0|170.35714285714286|              55.0|   115.0|    60.0|97.77777777777777|   100.0|\n",
      "|                  35|NULL|              NULL|             125.0|              60.0|    NULL|    NULL|             70.0|   110.0|\n",
      "|                NULL|NULL|              NULL|              NULL|              NULL|    NULL|    NULL|             NULL|    NULL|\n",
      "|                  31|NULL|              80.0|             170.0|51.666666666666664|    NULL|    67.5|             NULL|    65.0|\n",
      "|                  27|NULL| 54.44444444444444|             165.0|              55.0|   120.0|   105.0|86.66666666666667|    90.0|\n",
      "|              Female|NULL|              NULL|             147.0|              NULL|   120.0|    NULL|             85.0|    83.0|\n",
      "|                  26|NULL|              72.5|             150.0|              NULL|   120.0|    NULL|             75.0|    NULL|\n",
      "|                  23|NULL|             105.0|              NULL|              50.0|    NULL|    NULL|             72.5|    70.0|\n",
      "|                  25|NULL|              NULL|             150.0|              NULL|    NULL|    85.0|             90.0|    NULL|\n",
      "|                  33|NULL|              65.0|             170.0|              45.0|    NULL|    NULL|             85.0|    NULL|\n",
      "|                  24|NULL|             110.0|             140.0|              55.0|    85.0|    75.0|91.66666666666667|    NULL|\n",
      "|                  32|NULL|              NULL|140.71428571428572|              NULL|    NULL|    NULL|             NULL|   105.0|\n",
      "|          Non-binary|NULL|              68.0|              NULL|              NULL|    77.0|    80.0|             NULL|    NULL|\n",
      "|                Male|NULL|              60.0|             165.0|              60.0|    NULL|    82.0|            76.25|    70.0|\n",
      "|                  21|NULL|46.666666666666664|             140.0|              NULL|    60.0|    NULL|             90.0|    NULL|\n",
      "+--------------------+----+------------------+------------------+------------------+--------+--------+-----------------+--------+\n",
      "\n",
      "Unpivoted DataFrame:\n",
      "+--------------------+---------+--------------------+\n",
      "|                 Age| Platform|avg_daily_usage_time|\n",
      "+--------------------+---------+--------------------+\n",
      "|                  29|Instagram|                NULL|\n",
      "|                  29| Facebook|   70.88235294117646|\n",
      "|                  29|  Twitter|                95.0|\n",
      "| işte mevcut veri...|Instagram|                NULL|\n",
      "| işte mevcut veri...| Facebook|                NULL|\n",
      "| işte mevcut veri...|  Twitter|                NULL|\n",
      "|                  30|Instagram|               175.0|\n",
      "|                  30| Facebook|                NULL|\n",
      "|                  30|  Twitter|   83.33333333333333|\n",
      "|                  34|Instagram|               120.0|\n",
      "|                  34| Facebook|                NULL|\n",
      "|                  34|  Twitter|                NULL|\n",
      "|                  22|Instagram|               147.5|\n",
      "|                  22| Facebook|                65.0|\n",
      "|                  22|  Twitter|                70.0|\n",
      "|                  28|Instagram|  170.35714285714286|\n",
      "|                  28| Facebook|               100.0|\n",
      "|                  28|  Twitter|   97.77777777777777|\n",
      "|                  35|Instagram|               125.0|\n",
      "|                  35| Facebook|                NULL|\n",
      "+--------------------+---------+--------------------+\n",
      "only showing top 20 rows\n",
      "\n"
     ]
    }
   ],
   "source": [
    "from pyspark.sql import SparkSession\n",
    "from pyspark.sql.functions import expr\n",
    "\n",
    "# Initialize Spark session\n",
    "spark = SparkSession.builder.appName(\"PySparkExample\").getOrCreate()\n",
    "\n",
    "# Read train CSV file into DataFrame\n",
    "train_df = spark.read.csv(\"C:/bigdata/source/projectbigdata/train.csv\", header=True, inferSchema=True)\n",
    "\n",
    "# Pivot table\n",
    "pivot_df = train_df.groupBy(\"Age\").pivot(\"Platform\").avg(\"Daily_Usage_Time (minutes)\")\n",
    "print(\"Pivoted DataFrame:\")\n",
    "pivot_df.show()\n",
    "\n",
    "\n",
    "# Unpivot table (melt)\n",
    "from pyspark.sql.functions import expr\n",
    "\n",
    "unpivot_df = pivot_df.select(\"Age\", expr(\"stack(3, 'Instagram', Instagram, 'Facebook', Facebook, 'Twitter', Twitter) as (Platform, avg_daily_usage_time)\"))\n",
    "print(\"Unpivoted DataFrame:\")\n",
    "unpivot_df.show()\n",
    "\n"
   ]
  },
  {
   "cell_type": "code",
   "execution_count": null,
   "id": "ceee270a-fe93-452a-970b-f3af5b7c0da9",
   "metadata": {},
   "outputs": [],
   "source": []
  }
 ],
 "metadata": {
  "kernelspec": {
   "display_name": "Python 3 (ipykernel)",
   "language": "python",
   "name": "python3"
  },
  "language_info": {
   "codemirror_mode": {
    "name": "ipython",
    "version": 3
   },
   "file_extension": ".py",
   "mimetype": "text/x-python",
   "name": "python",
   "nbconvert_exporter": "python",
   "pygments_lexer": "ipython3",
   "version": "3.10.11"
  }
 },
 "nbformat": 4,
 "nbformat_minor": 5
}
