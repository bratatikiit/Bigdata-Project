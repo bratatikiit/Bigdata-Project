{
 "cells": [
  {
   "cell_type": "code",
   "execution_count": null,
   "id": "ca9ca8e5-0fa3-4112-8aa5-41407f320067",
   "metadata": {},
   "outputs": [],
   "source": [
    "# Import SparkSession\n",
    "from pyspark.sql import SparkSession\n",
    "\n",
    "# Create SparkSession \n",
    "spark = SparkSession.builder \\\n",
    "      .master(\"local[1]\") \\\n",
    "      .appName(\"SparkByExamples.com\") \\\n",
    "      .getOrCreate() \n"
   ]
  },
  {
   "cell_type": "code",
   "execution_count": 7,
   "id": "2e8a8334-db02-47cd-abe5-c38fdbc6aed3",
   "metadata": {},
   "outputs": [
    {
     "data": {
      "text/plain": [
       "207"
      ]
     },
     "execution_count": 7,
     "metadata": {},
     "output_type": "execute_result"
    }
   ],
   "source": [
    "# Create RDD from external Data source\n",
    "rdd = spark.sparkContext.textFile(\"C:/bigdata/source/projectbigdata/test.csv\")\n",
    "rdd.count()"
   ]
  },
  {
   "cell_type": "code",
   "execution_count": 6,
   "id": "56254582-0f9d-4709-afef-47b6ff609b3e",
   "metadata": {},
   "outputs": [
    {
     "name": "stdout",
     "output_type": "stream",
     "text": [
      "root\n",
      " |-- User_ID: integer (nullable = true)\n",
      " |-- Age: string (nullable = true)\n",
      " |-- Gender: string (nullable = true)\n",
      " |-- Platform: string (nullable = true)\n",
      " |-- Daily_Usage_Time (minutes): integer (nullable = true)\n",
      " |-- Posts_Per_Day: integer (nullable = true)\n",
      " |-- Likes_Received_Per_Day: integer (nullable = true)\n",
      " |-- Comments_Received_Per_Day: integer (nullable = true)\n",
      " |-- Messages_Sent_Per_Day: integer (nullable = true)\n",
      " |-- Dominant_Emotion: string (nullable = true)\n",
      "\n",
      "+-------+----+----------+---------+--------------------------+-------------+----------------------+-------------------------+---------------------+----------------+\n",
      "|User_ID| Age|    Gender| Platform|Daily_Usage_Time (minutes)|Posts_Per_Day|Likes_Received_Per_Day|Comments_Received_Per_Day|Messages_Sent_Per_Day|Dominant_Emotion|\n",
      "+-------+----+----------+---------+--------------------------+-------------+----------------------+-------------------------+---------------------+----------------+\n",
      "|   NULL|NULL|      NULL|     NULL|                      NULL|         NULL|                  NULL|                     NULL|                 NULL|            NULL|\n",
      "|    500|  27|    Female| Snapchat|                       120|            4|                    40|                       18|                   22|         Neutral|\n",
      "|   NULL|NULL|      NULL|     NULL|                      NULL|         NULL|                  NULL|                     NULL|                 NULL|            NULL|\n",
      "|    488|  21|Non-binary| Snapchat|                        60|            1|                    18|                        7|                   12|         Neutral|\n",
      "|   NULL|NULL|      NULL|     NULL|                      NULL|         NULL|                  NULL|                     NULL|                 NULL|            NULL|\n",
      "|    776|  28|Non-binary| Snapchat|                       115|            3|                    38|                       18|                   27|         Anxiety|\n",
      "|   NULL|NULL|      NULL|     NULL|                      NULL|         NULL|                  NULL|                     NULL|                 NULL|            NULL|\n",
      "|    869|  27|      Male| Telegram|                       105|            3|                    48|                       20|                   28|         Anxiety|\n",
      "|   NULL|NULL|      NULL|     NULL|                      NULL|         NULL|                  NULL|                     NULL|                 NULL|            NULL|\n",
      "|    573|  21|Non-binary| Facebook|                        55|            3|                    17|                        7|                   12|         Neutral|\n",
      "|   NULL|NULL|      NULL|     NULL|                      NULL|         NULL|                  NULL|                     NULL|                 NULL|            NULL|\n",
      "|    428|  25|    Female|Instagram|                       160|            6|                    85|                       26|                   30|       Happiness|\n",
      "|   NULL|NULL|      NULL|     NULL|                      NULL|         NULL|                  NULL|                     NULL|                 NULL|            NULL|\n",
      "|    528|  25|    Female|Instagram|                       160|            6|                    85|                       26|                   30|       Happiness|\n",
      "|   NULL|NULL|      NULL|     NULL|                      NULL|         NULL|                  NULL|                     NULL|                 NULL|            NULL|\n",
      "|    773|  21|Non-binary| Facebook|                        55|            3|                    17|                        7|                   12|         Neutral|\n",
      "|   NULL|NULL|      NULL|     NULL|                      NULL|         NULL|                  NULL|                     NULL|                 NULL|            NULL|\n",
      "|    382|  24|Non-binary| Snapchat|                        85|            3|                    33|                       20|                   18|       Happiness|\n",
      "|   NULL|NULL|      NULL|     NULL|                      NULL|         NULL|                  NULL|                     NULL|                 NULL|            NULL|\n",
      "|    505|  33|      Male| LinkedIn|                        45|            1|                    10|                        5|                   12|         Boredom|\n",
      "+-------+----+----------+---------+--------------------------+-------------+----------------------+-------------------------+---------------------+----------------+\n",
      "only showing top 20 rows\n",
      "\n"
     ]
    }
   ],
   "source": [
    "from pyspark.sql import SparkSession\n",
    "\n",
    "# Initialize Spark session\n",
    "spark = SparkSession.builder.appName(\"ReadCSVExample\").getOrCreate()\n",
    "\n",
    "# Read data from the CSV file with a header row\n",
    "file_path = \"C:/bigdata/source/projectbigdata/test.csv\"  # Ensure this is the correct path to your CSV file\n",
    "df = spark.read.csv(file_path, header=True, inferSchema=True)\n",
    "\n",
    "# Show the DataFrame schema and data\n",
    "df.printSchema()\n",
    "df.show()\n"
   ]
  },
  {
   "cell_type": "code",
   "execution_count": null,
   "id": "882864a9-f73e-4f62-b10f-5d3d04536f14",
   "metadata": {},
   "outputs": [],
   "source": []
  },
  {
   "cell_type": "code",
   "execution_count": null,
   "id": "e1405971-0af0-403e-95de-a0f902e19122",
   "metadata": {},
   "outputs": [],
   "source": []
  },
  {
   "cell_type": "code",
   "execution_count": null,
   "id": "e51dbb9c-ec16-4f07-b1ff-4afd4a1ff027",
   "metadata": {},
   "outputs": [],
   "source": []
  },
  {
   "cell_type": "code",
   "execution_count": null,
   "id": "af4ddef7-14e4-4b97-b90e-f7140da9d367",
   "metadata": {},
   "outputs": [],
   "source": []
  }
 ],
 "metadata": {
  "kernelspec": {
   "display_name": "Python 3 (ipykernel)",
   "language": "python",
   "name": "python3"
  },
  "language_info": {
   "codemirror_mode": {
    "name": "ipython",
    "version": 3
   },
   "file_extension": ".py",
   "mimetype": "text/x-python",
   "name": "python",
   "nbconvert_exporter": "python",
   "pygments_lexer": "ipython3",
   "version": "3.10.11"
  }
 },
 "nbformat": 4,
 "nbformat_minor": 5
}
