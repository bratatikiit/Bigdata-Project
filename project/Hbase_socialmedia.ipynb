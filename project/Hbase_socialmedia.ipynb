{
 "cells": [
  {
   "cell_type": "code",
   "execution_count": 10,
   "id": "e3b96e6a-543c-480b-8a15-b3d4d22c3cee",
   "metadata": {},
   "outputs": [
    {
     "name": "stdout",
     "output_type": "stream",
     "text": [
      "Connection to HBase established\n"
     ]
    }
   ],
   "source": [
    "# start-hbase.sh\n",
    "# hbase-daemon.sh start thrift\n",
    "\n",
    "import happybase\n",
    "import random\n",
    "\n",
    "# Verbindung zu HBase herstellen\n",
    "connection = happybase.Connection(host='172.21.82.235', port=9090)\n",
    "connection.open()\n",
    "\n",
    "type(connection)\n",
    "print(\"Connection to HBase established\")"
   ]
  },
  {
   "cell_type": "code",
   "execution_count": 2,
   "id": "4e87cddc-d47d-441e-a3a3-e154c243c84e",
   "metadata": {},
   "outputs": [
    {
     "name": "stdout",
     "output_type": "stream",
     "text": [
      "Tables: [b'Kunden', b'Rechnungen', b'education', b'emp', b'table']\n",
      "Table my_database created\n",
      "Tables after creation: [b'Kunden', b'Rechnungen', b'education', b'emp', b'my_database', b'table']\n",
      "Data inserted\n",
      "Retrieved row: {b'contact:email': b'john@example.com', b'personal:name': b'John Doe'}\n",
      "Row key: b'row-key-1', Data: {b'contact:email': b'john@example.com', b'personal:name': b'John Doe'}\n",
      "Row key: b'row-key-2', Data: {b'contact:email': b'jane@example.com', b'personal:name': b'Jane Smith'}\n",
      "Row with key 'row-key-1' deleted\n",
      "Remaining rows after deletion: [(b'row-key-2', {b'contact:email': b'jane@example.com', b'personal:name': b'Jane Smith'})]\n",
      "Connection to HBase closed\n"
     ]
    }
   ],
   "source": [
    "#import happybase\n",
    "\n",
    "# Connect to HBase\n",
    "#connection = happybase.Connection('localhost', autoconnect=True)\n",
    "#connection.open()\n",
    "#print(\"Connection to HBase established\")\n",
    "\n",
    "# List existing tables\n",
    "tables = connection.tables()\n",
    "print(f\"Tables: {tables}\")\n",
    "\n",
    "# Define table name and column families\n",
    "table_name = 'my_database'\n",
    "families = {\n",
    "    'personal': dict(),  # Column family for personal data\n",
    "    'contact': dict(),   # Column family for contact data\n",
    "}\n",
    "\n",
    "# Create table if it does not exist\n",
    "if table_name.encode() not in tables:\n",
    "    connection.create_table(table_name, families)\n",
    "    print(f\"Table {table_name} created\")\n",
    "else:\n",
    "    print(f\"Table {table_name} already exists\")\n",
    "\n",
    "# Verify table creation\n",
    "tables = connection.tables()\n",
    "print(f\"Tables after creation: {tables}\")\n",
    "\n",
    "# Get the table\n",
    "table = connection.table(table_name)\n",
    "\n",
    "# Insert data\n",
    "table.put(b'row-key-1', {b'personal:name': b'John Doe', b'contact:email': b'john@example.com'})\n",
    "table.put(b'row-key-2', {b'personal:name': b'Jane Smith', b'contact:email': b'jane@example.com'})\n",
    "print(\"Data inserted\")\n",
    "\n",
    "# Retrieve a single row\n",
    "row = table.row(b'row-key-1')\n",
    "print(f\"Retrieved row: {row}\")\n",
    "\n",
    "# Scan the table for all rows\n",
    "for key, data in table.scan():\n",
    "    print(f\"Row key: {key}, Data: {data}\")\n",
    "\n",
    "# Delete a row\n",
    "table.delete(b'row-key-1')\n",
    "print(\"Row with key 'row-key-1' deleted\")\n",
    "\n",
    "# Verify deletion\n",
    "rows = list(table.scan())\n",
    "print(f\"Remaining rows after deletion: {rows}\")\n",
    "\n",
    "# Close the connection\n",
    "connection.close()\n",
    "print(\"Connection to HBase closed\")\n"
   ]
  },
  {
   "cell_type": "markdown",
   "id": "9feb0daa-434e-4fd8-ae08-1d9a4ea880ea",
   "metadata": {},
   "source": [
    "## Explanation of the Code\n",
    "**1. Connect to HBase:** Establish a connection to the HBase server running on localhost.\n",
    "**2. Create Table:** Create a table named socialmedia_activity with a column family cf if it does not already exist.\n",
    "**3. Insert Data:**  Loop through the provided data and insert each row into the user_activity table.\n",
    "**4. Retrieve Data:** Scan the table and print all rows to verify the data insertion.\n",
    "Close Connection: Close the connection to the HBase server."
   ]
  },
  {
   "cell_type": "markdown",
   "id": "b324ecb7-288b-444a-aa8f-aeecde976249",
   "metadata": {},
   "source": [
    "## Socialmedia data created and value inserted"
   ]
  },
  {
   "cell_type": "code",
   "execution_count": 7,
   "id": "3a43a005-2371-45de-bcfc-42b03badd26d",
   "metadata": {},
   "outputs": [
    {
     "name": "stdout",
     "output_type": "stream",
     "text": [
      "Connection to HBase established\n",
      "Tables: [b'Kunden', b'Rechnungen', b'education', b'emp', b'my_database', b'table']\n",
      "Table Socialmedia_activity created\n",
      "Data inserted\n",
      "Retrieving and displaying all rows:\n",
      "Row key: b'20', Data: {b'cf:Age': b'32.0', b'cf:Comments_Received_Per_Day': b'22.0', b'cf:Daily_Usage_Time': b'140.0', b'cf:Dominant_Emotion': b'Happiness', b'cf:Gender': b'Female', b'cf:Likes_Received_Per_Day': b'70.0', b'cf:Messages_Sent_Per_Day': b'33.0', b'cf:Platform': b'Instagram', b'cf:Posts_Per_Day': b'5.0'}\n",
      "Row key: b'328', Data: {b'cf:Age': b'25.0', b'cf:Comments_Received_Per_Day': b'26.0', b'cf:Daily_Usage_Time': b'160.0', b'cf:Dominant_Emotion': b'Happiness', b'cf:Gender': b'Female', b'cf:Likes_Received_Per_Day': b'85.0', b'cf:Messages_Sent_Per_Day': b'30.0', b'cf:Platform': b'Instagram', b'cf:Posts_Per_Day': b'6.0'}\n",
      "Row key: b'382', Data: {b'cf:Age': b'24.0', b'cf:Comments_Received_Per_Day': b'20.0', b'cf:Daily_Usage_Time': b'85.0', b'cf:Dominant_Emotion': b'Happiness', b'cf:Gender': b'Non-binary', b'cf:Likes_Received_Per_Day': b'33.0', b'cf:Messages_Sent_Per_Day': b'18.0', b'cf:Platform': b'Snapchat', b'cf:Posts_Per_Day': b'3.0'}\n",
      "Row key: b'428', Data: {b'cf:Age': b'25.0', b'cf:Comments_Received_Per_Day': b'26.0', b'cf:Daily_Usage_Time': b'160.0', b'cf:Dominant_Emotion': b'Happiness', b'cf:Gender': b'Female', b'cf:Likes_Received_Per_Day': b'85.0', b'cf:Messages_Sent_Per_Day': b'30.0', b'cf:Platform': b'Instagram', b'cf:Posts_Per_Day': b'6.0'}\n",
      "Row key: b'444', Data: {b'cf:Age': b'23.0', b'cf:Comments_Received_Per_Day': b'12.0', b'cf:Daily_Usage_Time': b'105.0', b'cf:Dominant_Emotion': b'Neutral', b'cf:Gender': b'Non-binary', b'cf:Likes_Received_Per_Day': b'25.0', b'cf:Messages_Sent_Per_Day': b'18.0', b'cf:Platform': b'Facebook', b'cf:Posts_Per_Day': b'2.0'}\n",
      "Row key: b'488', Data: {b'cf:Age': b'21.0', b'cf:Comments_Received_Per_Day': b'7.0', b'cf:Daily_Usage_Time': b'60.0', b'cf:Dominant_Emotion': b'Neutral', b'cf:Gender': b'Non-binary', b'cf:Likes_Received_Per_Day': b'18.0', b'cf:Messages_Sent_Per_Day': b'12.0', b'cf:Platform': b'Snapchat', b'cf:Posts_Per_Day': b'1.0'}\n",
      "Row key: b'500', Data: {b'cf:Age': b'27.0', b'cf:Comments_Received_Per_Day': b'18.0', b'cf:Daily_Usage_Time': b'120.0', b'cf:Dominant_Emotion': b'Neutral', b'cf:Gender': b'Female', b'cf:Likes_Received_Per_Day': b'40.0', b'cf:Messages_Sent_Per_Day': b'22.0', b'cf:Platform': b'Snapchat', b'cf:Posts_Per_Day': b'4.0'}\n",
      "Row key: b'505', Data: {b'cf:Age': b'33.0', b'cf:Comments_Received_Per_Day': b'5.0', b'cf:Daily_Usage_Time': b'45.0', b'cf:Dominant_Emotion': b'Boredom', b'cf:Gender': b'Male', b'cf:Likes_Received_Per_Day': b'10.0', b'cf:Messages_Sent_Per_Day': b'12.0', b'cf:Platform': b'LinkedIn', b'cf:Posts_Per_Day': b'1.0'}\n",
      "Row key: b'528', Data: {b'cf:Age': b'25.0', b'cf:Comments_Received_Per_Day': b'26.0', b'cf:Daily_Usage_Time': b'160.0', b'cf:Dominant_Emotion': b'Happiness', b'cf:Gender': b'Female', b'cf:Likes_Received_Per_Day': b'85.0', b'cf:Messages_Sent_Per_Day': b'30.0', b'cf:Platform': b'Instagram', b'cf:Posts_Per_Day': b'6.0'}\n",
      "Row key: b'573', Data: {b'cf:Age': b'21.0', b'cf:Comments_Received_Per_Day': b'7.0', b'cf:Daily_Usage_Time': b'55.0', b'cf:Dominant_Emotion': b'Neutral', b'cf:Gender': b'Non-binary', b'cf:Likes_Received_Per_Day': b'17.0', b'cf:Messages_Sent_Per_Day': b'12.0', b'cf:Platform': b'Facebook', b'cf:Posts_Per_Day': b'3.0'}\n",
      "Row key: b'720', Data: {b'cf:Age': b'32.0', b'cf:Comments_Received_Per_Day': b'28.0', b'cf:Daily_Usage_Time': b'140.0', b'cf:Dominant_Emotion': b'Happiness', b'cf:Gender': b'Female', b'cf:Likes_Received_Per_Day': b'75.0', b'cf:Messages_Sent_Per_Day': b'30.0', b'cf:Platform': b'Instagram', b'cf:Posts_Per_Day': b'6.0'}\n",
      "Row key: b'773', Data: {b'cf:Age': b'21.0', b'cf:Comments_Received_Per_Day': b'7.0', b'cf:Daily_Usage_Time': b'55.0', b'cf:Dominant_Emotion': b'Neutral', b'cf:Gender': b'Non-binary', b'cf:Likes_Received_Per_Day': b'17.0', b'cf:Messages_Sent_Per_Day': b'12.0', b'cf:Platform': b'Facebook', b'cf:Posts_Per_Day': b'3.0'}\n",
      "Row key: b'776', Data: {b'cf:Age': b'28.0', b'cf:Comments_Received_Per_Day': b'18.0', b'cf:Daily_Usage_Time': b'115.0', b'cf:Dominant_Emotion': b'Anxiety', b'cf:Gender': b'Non-binary', b'cf:Likes_Received_Per_Day': b'38.0', b'cf:Messages_Sent_Per_Day': b'27.0', b'cf:Platform': b'Snapchat', b'cf:Posts_Per_Day': b'3.0'}\n",
      "Row key: b'869', Data: {b'cf:Age': b'27.0', b'cf:Comments_Received_Per_Day': b'20.0', b'cf:Daily_Usage_Time': b'105.0', b'cf:Dominant_Emotion': b'Anxiety', b'cf:Gender': b'Male', b'cf:Likes_Received_Per_Day': b'48.0', b'cf:Messages_Sent_Per_Day': b'28.0', b'cf:Platform': b'Telegram', b'cf:Posts_Per_Day': b'3.0'}\n",
      "Connection to HBase closed\n"
     ]
    }
   ],
   "source": [
    "#import happybase\n",
    "\n",
    "# Connect to HBase\n",
    "#connection = happybase.Connection('localhost', autoconnect=True)\n",
    "#connection.open()\n",
    "#print(\"Connection to HBase established\")\n",
    "\n",
    "import happybase\n",
    "import random\n",
    "\n",
    "# Verbindung zu HBase herstellen\n",
    "connection = happybase.Connection(host='172.21.82.235', port=9090)\n",
    "connection.open()\n",
    "\n",
    "type(connection)\n",
    "print(\"Connection to HBase established\")\n",
    "# List existing tables\n",
    "tables = connection.tables()\n",
    "print(f\"Tables: {tables}\")\n",
    "\n",
    "# Define table name and column families\n",
    "table_name = 'Socialmedia_activity'\n",
    "families = {\n",
    "    'cf': dict(),  # Column family for user activity data\n",
    "}\n",
    "\n",
    "# Create table if it does not exist\n",
    "if table_name.encode() not in connection.tables():\n",
    "    connection.create_table(table_name, families)\n",
    "    print(f\"Table {table_name} created\")\n",
    "else:\n",
    "    print(f\"Table {table_name} already exists\")\n",
    "\n",
    "# Get the table\n",
    "table = connection.table(table_name)\n",
    "\n",
    "# Data to be inserted\n",
    "data = [\n",
    "    (500.0, 27.0, 'Female', 'Snapchat', 120.0, 4.0, 40.0, 18.0, 22.0, 'Neutral'),\n",
    "    (488.0, 21.0, 'Non-binary', 'Snapchat', 60.0, 1.0, 18.0, 7.0, 12.0, 'Neutral'),\n",
    "    (776.0, 28.0, 'Non-binary', 'Snapchat', 115.0, 3.0, 38.0, 18.0, 27.0, 'Anxiety'),\n",
    "    (869.0, 27.0, 'Male', 'Telegram', 105.0, 3.0, 48.0, 20.0, 28.0, 'Anxiety'),\n",
    "    (573.0, 21.0, 'Non-binary', 'Facebook', 55.0, 3.0, 17.0, 7.0, 12.0, 'Neutral'),\n",
    "    (428.0, 25.0, 'Female', 'Instagram', 160.0, 6.0, 85.0, 26.0, 30.0, 'Happiness'),\n",
    "    (528.0, 25.0, 'Female', 'Instagram', 160.0, 6.0, 85.0, 26.0, 30.0, 'Happiness'),\n",
    "    (773.0, 21.0, 'Non-binary', 'Facebook', 55.0, 3.0, 17.0, 7.0, 12.0, 'Neutral'),\n",
    "    (382.0, 24.0, 'Non-binary', 'Snapchat', 85.0, 3.0, 33.0, 20.0, 18.0, 'Happiness'),\n",
    "    (505.0, 33.0, 'Male', 'LinkedIn', 45.0, 1.0, 10.0, 5.0, 12.0, 'Boredom'),\n",
    "    (20.0, 32.0, 'Female', 'Instagram', 140.0, 5.0, 70.0, 22.0, 33.0, 'Happiness'),\n",
    "    (444.0, 23.0, 'Non-binary', 'Facebook', 105.0, 2.0, 25.0, 12.0, 18.0, 'Neutral'),\n",
    "    (720.0, 32.0, 'Female', 'Instagram', 140.0, 6.0, 75.0, 28.0, 30.0, 'Happiness'),\n",
    "    (328.0, 25.0, 'Female', 'Instagram', 160.0, 6.0, 85.0, 26.0, 30.0, 'Happiness'),\n",
    "]\n",
    "\n",
    "# Insert data into the table\n",
    "for row in data:\n",
    "    row_key = str(int(row[0])).encode('utf-8')  # Use User_ID as the row key\n",
    "    table.put(row_key, {\n",
    "        b'cf:Age': str(row[1]).encode('utf-8'),\n",
    "        b'cf:Gender': row[2].encode('utf-8'),\n",
    "        b'cf:Platform': row[3].encode('utf-8'),\n",
    "        b'cf:Daily_Usage_Time': str(row[4]).encode('utf-8'),\n",
    "        b'cf:Posts_Per_Day': str(row[5]).encode('utf-8'),\n",
    "        b'cf:Likes_Received_Per_Day': str(row[6]).encode('utf-8'),\n",
    "        b'cf:Comments_Received_Per_Day': str(row[7]).encode('utf-8'),\n",
    "        b'cf:Messages_Sent_Per_Day': str(row[8]).encode('utf-8'),\n",
    "        b'cf:Dominant_Emotion': row[9].encode('utf-8')\n",
    "    })\n",
    "print(\"Data inserted\")\n",
    "\n",
    "# Retrieve and display the data\n",
    "print(\"Retrieving and displaying all rows:\")\n",
    "for key, data in table.scan():\n",
    "    print(f\"Row key: {key}, Data: {data}\")\n",
    "\n",
    "# Close the connection\n",
    "connection.close()\n",
    "print(\"Connection to HBase closed\")\n"
   ]
  },
  {
   "cell_type": "markdown",
   "id": "2eb9f291-597d-42bb-b7a5-79e66302a2dd",
   "metadata": {},
   "source": [
    "## Create a Table and  Insert Data"
   ]
  },
  {
   "cell_type": "code",
   "execution_count": 13,
   "id": "73adc10c-e616-4ea1-ac8d-0f87c13b5f56",
   "metadata": {},
   "outputs": [
    {
     "name": "stdout",
     "output_type": "stream",
     "text": [
      "Connection to HBase established\n",
      "Tables: [b'Kunden', b'Rechnungen', b'Socialmedia_activity', b'education', b'emp', b'my_database', b'table']\n",
      "Table user_activity created\n",
      "Data inserted\n"
     ]
    }
   ],
   "source": [
    "import happybase\n",
    "import random\n",
    "\n",
    "# Verbindung zu HBase herstellen\n",
    "connection = happybase.Connection(host='172.21.82.235', port=9090)\n",
    "connection.open()\n",
    "\n",
    "type(connection)\n",
    "print(\"Connection to HBase established\")\n",
    "# List existing tables\n",
    "tables = connection.tables()\n",
    "print(f\"Tables: {tables}\")\n",
    "# Define table name and column families\n",
    "table_name = 'user_activity'\n",
    "families = {\n",
    "    'cf': dict(),  # Column family for user activity data\n",
    "}\n",
    "\n",
    "# Create table if it does not exist\n",
    "if table_name.encode() not in connection.tables():\n",
    "    connection.create_table(table_name, families)\n",
    "    print(f\"Table {table_name} created\")\n",
    "else:\n",
    "    print(f\"Table {table_name} already exists\")\n",
    "\n",
    "# Get the table\n",
    "table = connection.table(table_name)\n",
    "\n",
    "# Data to be inserted\n",
    "data = [\n",
    "    (500.0, 27.0, 'Female', 'Snapchat', 120.0, 4.0, 40.0, 18.0, 22.0, 'Neutral'),\n",
    "    (488.0, 21.0, 'Non-binary', 'Snapchat', 60.0, 1.0, 18.0, 7.0, 12.0, 'Neutral'),\n",
    "    (776.0, 28.0, 'Non-binary', 'Snapchat', 115.0, 3.0, 38.0, 18.0, 27.0, 'Anxiety'),\n",
    "    (869.0, 27.0, 'Male', 'Telegram', 105.0, 3.0, 48.0, 20.0, 28.0, 'Anxiety'),\n",
    "    (573.0, 21.0, 'Non-binary', 'Facebook', 55.0, 3.0, 17.0, 7.0, 12.0, 'Neutral'),\n",
    "    (428.0, 25.0, 'Female', 'Instagram', 160.0, 6.0, 85.0, 26.0, 30.0, 'Happiness'),\n",
    "    (528.0, 25.0, 'Female', 'Instagram', 160.0, 6.0, 85.0, 26.0, 30.0, 'Happiness'),\n",
    "    (773.0, 21.0, 'Non-binary', 'Facebook', 55.0, 3.0, 17.0, 7.0, 12.0, 'Neutral'),\n",
    "    (382.0, 24.0, 'Non-binary', 'Snapchat', 85.0, 3.0, 33.0, 20.0, 18.0, 'Happiness'),\n",
    "    (505.0, 33.0, 'Male', 'LinkedIn', 45.0, 1.0, 10.0, 5.0, 12.0, 'Boredom'),\n",
    "    (20.0, 32.0, 'Female', 'Instagram', 140.0, 5.0, 70.0, 22.0, 33.0, 'Happiness'),\n",
    "    (444.0, 23.0, 'Non-binary', 'Facebook', 105.0, 2.0, 25.0, 12.0, 18.0, 'Neutral'),\n",
    "    (720.0, 32.0, 'Female', 'Instagram', 140.0, 6.0, 75.0, 28.0, 30.0, 'Happiness'),\n",
    "    (328.0, 25.0, 'Female', 'Instagram', 160.0, 6.0, 85.0, 26.0, 30.0, 'Happiness'),\n",
    "]\n",
    "\n",
    "# Insert data into the table\n",
    "for row in data:\n",
    "    row_key = str(int(row[0])).encode('utf-8')  # Use User_ID as the row key\n",
    "    table.put(row_key, {\n",
    "        b'cf:Age': str(row[1]).encode('utf-8'),\n",
    "        b'cf:Gender': row[2].encode('utf-8'),\n",
    "        b'cf:Platform': row[3].encode('utf-8'),\n",
    "        b'cf:Daily_Usage_Time': str(row[4]).encode('utf-8'),\n",
    "        b'cf:Posts_Per_Day': str(row[5]).encode('utf-8'),\n",
    "        b'cf:Likes_Received_Per_Day': str(row[6]).encode('utf-8'),\n",
    "        b'cf:Comments_Received_Per_Day': str(row[7]).encode('utf-8'),\n",
    "        b'cf:Messages_Sent_Per_Day': str(row[8]).encode('utf-8'),\n",
    "        b'cf:Dominant_Emotion': row[9].encode('utf-8')\n",
    "    })\n",
    "print(\"Data inserted\")\n",
    "\n"
   ]
  },
  {
   "cell_type": "markdown",
   "id": "3a72e13c-3319-449a-8629-30c505ca22ba",
   "metadata": {},
   "source": [
    "## Update a Specific Column"
   ]
  },
  {
   "cell_type": "code",
   "execution_count": 14,
   "id": "72a38dc9-fd37-4176-81ff-4756b3086909",
   "metadata": {},
   "outputs": [
    {
     "name": "stdout",
     "output_type": "stream",
     "text": [
      "Connection to HBase established\n",
      "Updated Daily_Usage_Time for User_ID 500.0\n"
     ]
    }
   ],
   "source": [
    "import happybase\n",
    "import random\n",
    "\n",
    "# Verbindung zu HBase herstellen\n",
    "connection = happybase.Connection(host='172.21.82.235', port=9090)\n",
    "connection.open()\n",
    "\n",
    "type(connection)\n",
    "print(\"Connection to HBase established\")\n",
    "\n",
    "# Get the table\n",
    "table = connection.table('user_activity')\n",
    "\n",
    "# Update Daily_Usage_Time for User_ID 500.0\n",
    "user_id = b'500'\n",
    "table.put(user_id, {b'cf:Daily_Usage_Time': b'150.0'})\n",
    "print(\"Updated Daily_Usage_Time for User_ID 500.0\")\n",
    "\n",
    "# Close the connection\n",
    "connection.close()\n"
   ]
  },
  {
   "cell_type": "markdown",
   "id": "4eb67f25-76fc-4489-b4e0-8096c98ab344",
   "metadata": {},
   "source": [
    "## Delete a Specific Column"
   ]
  },
  {
   "cell_type": "code",
   "execution_count": 15,
   "id": "28057aa9-024f-4e23-b9dc-bef40310cfac",
   "metadata": {},
   "outputs": [
    {
     "name": "stdout",
     "output_type": "stream",
     "text": [
      "Connection to HBase established\n",
      "Deleted Daily_Usage_Time for User_ID 500.0\n"
     ]
    }
   ],
   "source": [
    "import happybase\n",
    "import random\n",
    "\n",
    "# Verbindung zu HBase herstellen\n",
    "connection = happybase.Connection(host='172.21.82.235', port=9090)\n",
    "connection.open()\n",
    "\n",
    "type(connection)\n",
    "print(\"Connection to HBase established\")\n",
    "\n",
    "# Get the table\n",
    "table = connection.table('user_activity')\n",
    "\n",
    "# Delete the Daily_Usage_Time column for User_ID 500.0\n",
    "user_id = b'500'\n",
    "table.delete(user_id, columns=[b'cf:Daily_Usage_Time'])\n",
    "print(\"Deleted Daily_Usage_Time for User_ID 500.0\")\n",
    "\n",
    "# Close the connection\n",
    "connection.close()\n"
   ]
  },
  {
   "cell_type": "markdown",
   "id": "8da8fe41-1c6b-480e-b825-ec8a66bcfe32",
   "metadata": {},
   "source": [
    "## Delete an Entire Row"
   ]
  },
  {
   "cell_type": "code",
   "execution_count": 16,
   "id": "ac53b891-9768-4523-8f98-d65143725438",
   "metadata": {},
   "outputs": [
    {
     "name": "stdout",
     "output_type": "stream",
     "text": [
      "Connection to HBase established\n",
      "Deleted row for User_ID 500.0\n"
     ]
    }
   ],
   "source": [
    "import happybase\n",
    "import random\n",
    "\n",
    "# Verbindung zu HBase herstellen\n",
    "connection = happybase.Connection(host='172.21.82.235', port=9090)\n",
    "connection.open()\n",
    "\n",
    "type(connection)\n",
    "print(\"Connection to HBase established\")\n",
    "\n",
    "# Get the table\n",
    "table = connection.table('user_activity')\n",
    "\n",
    "# Delete the entire row for User_ID 500.0\n",
    "user_id = b'500'\n",
    "table.delete(user_id)\n",
    "print(\"Deleted row for User_ID 500.0\")\n",
    "\n",
    "# Close the connection\n",
    "connection.close()\n"
   ]
  },
  {
   "cell_type": "markdown",
   "id": "962e8a85-f61f-4627-897a-81a50461ec34",
   "metadata": {},
   "source": [
    "## Scan for Rows with a Prefix Filter"
   ]
  },
  {
   "cell_type": "code",
   "execution_count": 17,
   "id": "fee1c4ad-e4b5-44db-97a8-5371bf0c1871",
   "metadata": {},
   "outputs": [
    {
     "name": "stdout",
     "output_type": "stream",
     "text": [
      "Connection to HBase established\n",
      "Scanning for rows with PrefixFilter:\n",
      "Row key: b'505', Data: {b'cf:Age': b'33.0', b'cf:Comments_Received_Per_Day': b'5.0', b'cf:Daily_Usage_Time': b'45.0', b'cf:Dominant_Emotion': b'Boredom', b'cf:Gender': b'Male', b'cf:Likes_Received_Per_Day': b'10.0', b'cf:Messages_Sent_Per_Day': b'12.0', b'cf:Platform': b'LinkedIn', b'cf:Posts_Per_Day': b'1.0'}\n",
      "Row key: b'528', Data: {b'cf:Age': b'25.0', b'cf:Comments_Received_Per_Day': b'26.0', b'cf:Daily_Usage_Time': b'160.0', b'cf:Dominant_Emotion': b'Happiness', b'cf:Gender': b'Female', b'cf:Likes_Received_Per_Day': b'85.0', b'cf:Messages_Sent_Per_Day': b'30.0', b'cf:Platform': b'Instagram', b'cf:Posts_Per_Day': b'6.0'}\n",
      "Row key: b'573', Data: {b'cf:Age': b'21.0', b'cf:Comments_Received_Per_Day': b'7.0', b'cf:Daily_Usage_Time': b'55.0', b'cf:Dominant_Emotion': b'Neutral', b'cf:Gender': b'Non-binary', b'cf:Likes_Received_Per_Day': b'17.0', b'cf:Messages_Sent_Per_Day': b'12.0', b'cf:Platform': b'Facebook', b'cf:Posts_Per_Day': b'3.0'}\n"
     ]
    }
   ],
   "source": [
    "import happybase\n",
    "import random\n",
    "\n",
    "# Verbindung zu HBase herstellen\n",
    "connection = happybase.Connection(host='172.21.82.235', port=9090)\n",
    "connection.open()\n",
    "\n",
    "type(connection)\n",
    "print(\"Connection to HBase established\")\n",
    "\n",
    "# Get the table\n",
    "table = connection.table('user_activity')\n",
    "\n",
    "# Define the prefix you want to search for\n",
    "prefix = b'5'  # Searching for rows where row key starts with '5'\n",
    "\n",
    "# Define the filter using PrefixFilter\n",
    "scan_filter = f\"PrefixFilter ('{prefix.decode()}')\"\n",
    "\n",
    "# Scan with the filter\n",
    "print(\"Scanning for rows with PrefixFilter:\")\n",
    "for key, data in table.scan(filter=scan_filter):\n",
    "    print(f\"Row key: {key}, Data: {data}\")\n",
    "\n",
    "# Close the connection\n",
    "connection.close()\n"
   ]
  },
  {
   "cell_type": "markdown",
   "id": "e14a2042-a667-4921-bb76-7bc82e2377a8",
   "metadata": {},
   "source": [
    "## Retrieve Data from table"
   ]
  },
  {
   "cell_type": "code",
   "execution_count": 18,
   "id": "1870d323-5102-45d0-a419-7062cac108d7",
   "metadata": {},
   "outputs": [
    {
     "name": "stdout",
     "output_type": "stream",
     "text": [
      "Connection to HBase established\n",
      "Retrieving and displaying all rows:\n",
      "Row key: 20, Data: {b'cf:Age': b'32.0', b'cf:Comments_Received_Per_Day': b'22.0', b'cf:Daily_Usage_Time': b'140.0', b'cf:Dominant_Emotion': b'Happiness', b'cf:Gender': b'Female', b'cf:Likes_Received_Per_Day': b'70.0', b'cf:Messages_Sent_Per_Day': b'33.0', b'cf:Platform': b'Instagram', b'cf:Posts_Per_Day': b'5.0'}\n",
      "Row key: 328, Data: {b'cf:Age': b'25.0', b'cf:Comments_Received_Per_Day': b'26.0', b'cf:Daily_Usage_Time': b'160.0', b'cf:Dominant_Emotion': b'Happiness', b'cf:Gender': b'Female', b'cf:Likes_Received_Per_Day': b'85.0', b'cf:Messages_Sent_Per_Day': b'30.0', b'cf:Platform': b'Instagram', b'cf:Posts_Per_Day': b'6.0'}\n",
      "Row key: 382, Data: {b'cf:Age': b'24.0', b'cf:Comments_Received_Per_Day': b'20.0', b'cf:Daily_Usage_Time': b'85.0', b'cf:Dominant_Emotion': b'Happiness', b'cf:Gender': b'Non-binary', b'cf:Likes_Received_Per_Day': b'33.0', b'cf:Messages_Sent_Per_Day': b'18.0', b'cf:Platform': b'Snapchat', b'cf:Posts_Per_Day': b'3.0'}\n",
      "Row key: 428, Data: {b'cf:Age': b'25.0', b'cf:Comments_Received_Per_Day': b'26.0', b'cf:Daily_Usage_Time': b'160.0', b'cf:Dominant_Emotion': b'Happiness', b'cf:Gender': b'Female', b'cf:Likes_Received_Per_Day': b'85.0', b'cf:Messages_Sent_Per_Day': b'30.0', b'cf:Platform': b'Instagram', b'cf:Posts_Per_Day': b'6.0'}\n",
      "Row key: 444, Data: {b'cf:Age': b'23.0', b'cf:Comments_Received_Per_Day': b'12.0', b'cf:Daily_Usage_Time': b'105.0', b'cf:Dominant_Emotion': b'Neutral', b'cf:Gender': b'Non-binary', b'cf:Likes_Received_Per_Day': b'25.0', b'cf:Messages_Sent_Per_Day': b'18.0', b'cf:Platform': b'Facebook', b'cf:Posts_Per_Day': b'2.0'}\n",
      "Row key: 488, Data: {b'cf:Age': b'21.0', b'cf:Comments_Received_Per_Day': b'7.0', b'cf:Daily_Usage_Time': b'60.0', b'cf:Dominant_Emotion': b'Neutral', b'cf:Gender': b'Non-binary', b'cf:Likes_Received_Per_Day': b'18.0', b'cf:Messages_Sent_Per_Day': b'12.0', b'cf:Platform': b'Snapchat', b'cf:Posts_Per_Day': b'1.0'}\n",
      "Row key: 505, Data: {b'cf:Age': b'33.0', b'cf:Comments_Received_Per_Day': b'5.0', b'cf:Daily_Usage_Time': b'45.0', b'cf:Dominant_Emotion': b'Boredom', b'cf:Gender': b'Male', b'cf:Likes_Received_Per_Day': b'10.0', b'cf:Messages_Sent_Per_Day': b'12.0', b'cf:Platform': b'LinkedIn', b'cf:Posts_Per_Day': b'1.0'}\n",
      "Row key: 528, Data: {b'cf:Age': b'25.0', b'cf:Comments_Received_Per_Day': b'26.0', b'cf:Daily_Usage_Time': b'160.0', b'cf:Dominant_Emotion': b'Happiness', b'cf:Gender': b'Female', b'cf:Likes_Received_Per_Day': b'85.0', b'cf:Messages_Sent_Per_Day': b'30.0', b'cf:Platform': b'Instagram', b'cf:Posts_Per_Day': b'6.0'}\n",
      "Row key: 573, Data: {b'cf:Age': b'21.0', b'cf:Comments_Received_Per_Day': b'7.0', b'cf:Daily_Usage_Time': b'55.0', b'cf:Dominant_Emotion': b'Neutral', b'cf:Gender': b'Non-binary', b'cf:Likes_Received_Per_Day': b'17.0', b'cf:Messages_Sent_Per_Day': b'12.0', b'cf:Platform': b'Facebook', b'cf:Posts_Per_Day': b'3.0'}\n",
      "Row key: 720, Data: {b'cf:Age': b'32.0', b'cf:Comments_Received_Per_Day': b'28.0', b'cf:Daily_Usage_Time': b'140.0', b'cf:Dominant_Emotion': b'Happiness', b'cf:Gender': b'Female', b'cf:Likes_Received_Per_Day': b'75.0', b'cf:Messages_Sent_Per_Day': b'30.0', b'cf:Platform': b'Instagram', b'cf:Posts_Per_Day': b'6.0'}\n",
      "Row key: 773, Data: {b'cf:Age': b'21.0', b'cf:Comments_Received_Per_Day': b'7.0', b'cf:Daily_Usage_Time': b'55.0', b'cf:Dominant_Emotion': b'Neutral', b'cf:Gender': b'Non-binary', b'cf:Likes_Received_Per_Day': b'17.0', b'cf:Messages_Sent_Per_Day': b'12.0', b'cf:Platform': b'Facebook', b'cf:Posts_Per_Day': b'3.0'}\n",
      "Row key: 776, Data: {b'cf:Age': b'28.0', b'cf:Comments_Received_Per_Day': b'18.0', b'cf:Daily_Usage_Time': b'115.0', b'cf:Dominant_Emotion': b'Anxiety', b'cf:Gender': b'Non-binary', b'cf:Likes_Received_Per_Day': b'38.0', b'cf:Messages_Sent_Per_Day': b'27.0', b'cf:Platform': b'Snapchat', b'cf:Posts_Per_Day': b'3.0'}\n",
      "Row key: 869, Data: {b'cf:Age': b'27.0', b'cf:Comments_Received_Per_Day': b'20.0', b'cf:Daily_Usage_Time': b'105.0', b'cf:Dominant_Emotion': b'Anxiety', b'cf:Gender': b'Male', b'cf:Likes_Received_Per_Day': b'48.0', b'cf:Messages_Sent_Per_Day': b'28.0', b'cf:Platform': b'Telegram', b'cf:Posts_Per_Day': b'3.0'}\n"
     ]
    }
   ],
   "source": [
    "import happybase\n",
    "import random\n",
    "\n",
    "# Verbindung zu HBase herstellen\n",
    "connection = happybase.Connection(host='172.21.82.235', port=9090)\n",
    "connection.open()\n",
    "\n",
    "type(connection)\n",
    "print(\"Connection to HBase established\")\n",
    "\n",
    "# Get the table\n",
    "table = connection.table('user_activity')\n",
    "\n",
    "# Retrieve and display the data\n",
    "print(\"Retrieving and displaying all rows:\")\n",
    "for key, data in table.scan():\n",
    "    print(f\"Row key: {key.decode('utf-8')}, Data: {data}\")\n",
    "\n",
    "# Close the connection\n",
    "connection.close()\n"
   ]
  },
  {
   "cell_type": "code",
   "execution_count": null,
   "id": "aa2345c8-182e-4dd0-8087-f740d36ce2f3",
   "metadata": {},
   "outputs": [],
   "source": []
  }
 ],
 "metadata": {
  "kernelspec": {
   "display_name": "Python 3 (ipykernel)",
   "language": "python",
   "name": "python3"
  },
  "language_info": {
   "codemirror_mode": {
    "name": "ipython",
    "version": 3
   },
   "file_extension": ".py",
   "mimetype": "text/x-python",
   "name": "python",
   "nbconvert_exporter": "python",
   "pygments_lexer": "ipython3",
   "version": "3.10.11"
  }
 },
 "nbformat": 4,
 "nbformat_minor": 5
}
