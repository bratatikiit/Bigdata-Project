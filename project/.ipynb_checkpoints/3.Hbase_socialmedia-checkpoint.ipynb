{
 "cells": [
  {
   "cell_type": "markdown",
   "id": "43e15cbc-b172-4057-90cd-23de4581b3a8",
   "metadata": {},
   "source": [
    "## Spark Connection Established with Happybase"
   ]
  },
  {
   "cell_type": "code",
   "execution_count": 3,
   "id": "e3b96e6a-543c-480b-8a15-b3d4d22c3cee",
   "metadata": {},
   "outputs": [
    {
     "name": "stdout",
     "output_type": "stream",
     "text": [
      "Connection to HBase established\n"
     ]
    }
   ],
   "source": [
    "# start-hbase.sh\n",
    "# hbase-daemon.sh start thrift\n",
    "\n",
    "import happybase\n",
    "import random\n",
    "\n",
    "# Verbindung zu HBase herstellen\n",
    "connection = happybase.Connection(host='172.21.82.235', port=9090)\n",
    "connection.open()\n",
    "\n",
    "type(connection)\n",
    "print(\"Connection to HBase established\")"
   ]
  },
  {
   "cell_type": "markdown",
   "id": "9feb0daa-434e-4fd8-ae08-1d9a4ea880ea",
   "metadata": {
    "jp-MarkdownHeadingCollapsed": true
   },
   "source": [
    "## Explanation of the Code\n",
    "* 1. Connect to HBase:** Establish a connection to the HBase server running on localhost.\n",
    "* 2. Create Table:** Create a table named socialmedia_activity with a column family cf if it does not already exist.\n",
    "* 3. Insert Data:**  Loop through the provided data and insert each row into the user_activity table.\n",
    "* 4. Retrieve Data:** Scan the table and print all rows to verify the data insertion.\n",
    "Close Connection: Close the connection to the HBase server."
   ]
  },
  {
   "cell_type": "markdown",
   "id": "b324ecb7-288b-444a-aa8f-aeecde976249",
   "metadata": {},
   "source": [
    "## Socialmedia data created and value inserted"
   ]
  },
  {
   "cell_type": "code",
   "execution_count": 7,
   "id": "3a43a005-2371-45de-bcfc-42b03badd26d",
   "metadata": {},
   "outputs": [
    {
     "name": "stdout",
     "output_type": "stream",
     "text": [
      "Connection to HBase established\n",
      "Tables: [b'Kunden', b'Rechnungen', b'education', b'emp', b'my_database', b'table']\n",
      "Table Socialmedia_activity created\n",
      "Data inserted\n",
      "Retrieving and displaying all rows:\n",
      "Row key: b'20', Data: {b'cf:Age': b'32.0', b'cf:Comments_Received_Per_Day': b'22.0', b'cf:Daily_Usage_Time': b'140.0', b'cf:Dominant_Emotion': b'Happiness', b'cf:Gender': b'Female', b'cf:Likes_Received_Per_Day': b'70.0', b'cf:Messages_Sent_Per_Day': b'33.0', b'cf:Platform': b'Instagram', b'cf:Posts_Per_Day': b'5.0'}\n",
      "Row key: b'328', Data: {b'cf:Age': b'25.0', b'cf:Comments_Received_Per_Day': b'26.0', b'cf:Daily_Usage_Time': b'160.0', b'cf:Dominant_Emotion': b'Happiness', b'cf:Gender': b'Female', b'cf:Likes_Received_Per_Day': b'85.0', b'cf:Messages_Sent_Per_Day': b'30.0', b'cf:Platform': b'Instagram', b'cf:Posts_Per_Day': b'6.0'}\n",
      "Row key: b'382', Data: {b'cf:Age': b'24.0', b'cf:Comments_Received_Per_Day': b'20.0', b'cf:Daily_Usage_Time': b'85.0', b'cf:Dominant_Emotion': b'Happiness', b'cf:Gender': b'Non-binary', b'cf:Likes_Received_Per_Day': b'33.0', b'cf:Messages_Sent_Per_Day': b'18.0', b'cf:Platform': b'Snapchat', b'cf:Posts_Per_Day': b'3.0'}\n",
      "Row key: b'428', Data: {b'cf:Age': b'25.0', b'cf:Comments_Received_Per_Day': b'26.0', b'cf:Daily_Usage_Time': b'160.0', b'cf:Dominant_Emotion': b'Happiness', b'cf:Gender': b'Female', b'cf:Likes_Received_Per_Day': b'85.0', b'cf:Messages_Sent_Per_Day': b'30.0', b'cf:Platform': b'Instagram', b'cf:Posts_Per_Day': b'6.0'}\n",
      "Row key: b'444', Data: {b'cf:Age': b'23.0', b'cf:Comments_Received_Per_Day': b'12.0', b'cf:Daily_Usage_Time': b'105.0', b'cf:Dominant_Emotion': b'Neutral', b'cf:Gender': b'Non-binary', b'cf:Likes_Received_Per_Day': b'25.0', b'cf:Messages_Sent_Per_Day': b'18.0', b'cf:Platform': b'Facebook', b'cf:Posts_Per_Day': b'2.0'}\n",
      "Row key: b'488', Data: {b'cf:Age': b'21.0', b'cf:Comments_Received_Per_Day': b'7.0', b'cf:Daily_Usage_Time': b'60.0', b'cf:Dominant_Emotion': b'Neutral', b'cf:Gender': b'Non-binary', b'cf:Likes_Received_Per_Day': b'18.0', b'cf:Messages_Sent_Per_Day': b'12.0', b'cf:Platform': b'Snapchat', b'cf:Posts_Per_Day': b'1.0'}\n",
      "Row key: b'500', Data: {b'cf:Age': b'27.0', b'cf:Comments_Received_Per_Day': b'18.0', b'cf:Daily_Usage_Time': b'120.0', b'cf:Dominant_Emotion': b'Neutral', b'cf:Gender': b'Female', b'cf:Likes_Received_Per_Day': b'40.0', b'cf:Messages_Sent_Per_Day': b'22.0', b'cf:Platform': b'Snapchat', b'cf:Posts_Per_Day': b'4.0'}\n",
      "Row key: b'505', Data: {b'cf:Age': b'33.0', b'cf:Comments_Received_Per_Day': b'5.0', b'cf:Daily_Usage_Time': b'45.0', b'cf:Dominant_Emotion': b'Boredom', b'cf:Gender': b'Male', b'cf:Likes_Received_Per_Day': b'10.0', b'cf:Messages_Sent_Per_Day': b'12.0', b'cf:Platform': b'LinkedIn', b'cf:Posts_Per_Day': b'1.0'}\n",
      "Row key: b'528', Data: {b'cf:Age': b'25.0', b'cf:Comments_Received_Per_Day': b'26.0', b'cf:Daily_Usage_Time': b'160.0', b'cf:Dominant_Emotion': b'Happiness', b'cf:Gender': b'Female', b'cf:Likes_Received_Per_Day': b'85.0', b'cf:Messages_Sent_Per_Day': b'30.0', b'cf:Platform': b'Instagram', b'cf:Posts_Per_Day': b'6.0'}\n",
      "Row key: b'573', Data: {b'cf:Age': b'21.0', b'cf:Comments_Received_Per_Day': b'7.0', b'cf:Daily_Usage_Time': b'55.0', b'cf:Dominant_Emotion': b'Neutral', b'cf:Gender': b'Non-binary', b'cf:Likes_Received_Per_Day': b'17.0', b'cf:Messages_Sent_Per_Day': b'12.0', b'cf:Platform': b'Facebook', b'cf:Posts_Per_Day': b'3.0'}\n",
      "Row key: b'720', Data: {b'cf:Age': b'32.0', b'cf:Comments_Received_Per_Day': b'28.0', b'cf:Daily_Usage_Time': b'140.0', b'cf:Dominant_Emotion': b'Happiness', b'cf:Gender': b'Female', b'cf:Likes_Received_Per_Day': b'75.0', b'cf:Messages_Sent_Per_Day': b'30.0', b'cf:Platform': b'Instagram', b'cf:Posts_Per_Day': b'6.0'}\n",
      "Row key: b'773', Data: {b'cf:Age': b'21.0', b'cf:Comments_Received_Per_Day': b'7.0', b'cf:Daily_Usage_Time': b'55.0', b'cf:Dominant_Emotion': b'Neutral', b'cf:Gender': b'Non-binary', b'cf:Likes_Received_Per_Day': b'17.0', b'cf:Messages_Sent_Per_Day': b'12.0', b'cf:Platform': b'Facebook', b'cf:Posts_Per_Day': b'3.0'}\n",
      "Row key: b'776', Data: {b'cf:Age': b'28.0', b'cf:Comments_Received_Per_Day': b'18.0', b'cf:Daily_Usage_Time': b'115.0', b'cf:Dominant_Emotion': b'Anxiety', b'cf:Gender': b'Non-binary', b'cf:Likes_Received_Per_Day': b'38.0', b'cf:Messages_Sent_Per_Day': b'27.0', b'cf:Platform': b'Snapchat', b'cf:Posts_Per_Day': b'3.0'}\n",
      "Row key: b'869', Data: {b'cf:Age': b'27.0', b'cf:Comments_Received_Per_Day': b'20.0', b'cf:Daily_Usage_Time': b'105.0', b'cf:Dominant_Emotion': b'Anxiety', b'cf:Gender': b'Male', b'cf:Likes_Received_Per_Day': b'48.0', b'cf:Messages_Sent_Per_Day': b'28.0', b'cf:Platform': b'Telegram', b'cf:Posts_Per_Day': b'3.0'}\n",
      "Connection to HBase closed\n"
     ]
    }
   ],
   "source": [
    "#import happybase\n",
    "\n",
    "# Connect to HBase\n",
    "#connection = happybase.Connection('localhost', autoconnect=True)\n",
    "#connection.open()\n",
    "#print(\"Connection to HBase established\")\n",
    "\n",
    "import happybase\n",
    "import random\n",
    "\n",
    "# Verbindung zu HBase herstellen\n",
    "connection = happybase.Connection(host='172.21.82.235', port=9090)\n",
    "connection.open()\n",
    "\n",
    "type(connection)\n",
    "print(\"Connection to HBase established\")\n",
    "# List existing tables\n",
    "tables = connection.tables()\n",
    "print(f\"Tables: {tables}\")\n",
    "\n",
    "# Define table name and column families\n",
    "table_name = 'Socialmedia_activity'\n",
    "families = {\n",
    "    'cf': dict(),  # Column family for user activity data\n",
    "}\n",
    "\n",
    "# Create table if it does not exist\n",
    "if table_name.encode() not in connection.tables():\n",
    "    connection.create_table(table_name, families)\n",
    "    print(f\"Table {table_name} created\")\n",
    "else:\n",
    "    print(f\"Table {table_name} already exists\")\n",
    "\n",
    "# Get the table\n",
    "table = connection.table(table_name)\n",
    "\n",
    "# Data to be inserted\n",
    "data = [\n",
    "    (500.0, 27.0, 'Female', 'Snapchat', 120.0, 4.0, 40.0, 18.0, 22.0, 'Neutral'),\n",
    "    (488.0, 21.0, 'Non-binary', 'Snapchat', 60.0, 1.0, 18.0, 7.0, 12.0, 'Neutral'),\n",
    "    (776.0, 28.0, 'Non-binary', 'Snapchat', 115.0, 3.0, 38.0, 18.0, 27.0, 'Anxiety'),\n",
    "    (869.0, 27.0, 'Male', 'Telegram', 105.0, 3.0, 48.0, 20.0, 28.0, 'Anxiety'),\n",
    "    (573.0, 21.0, 'Non-binary', 'Facebook', 55.0, 3.0, 17.0, 7.0, 12.0, 'Neutral'),\n",
    "    (428.0, 25.0, 'Female', 'Instagram', 160.0, 6.0, 85.0, 26.0, 30.0, 'Happiness'),\n",
    "    (528.0, 25.0, 'Female', 'Instagram', 160.0, 6.0, 85.0, 26.0, 30.0, 'Happiness'),\n",
    "    (773.0, 21.0, 'Non-binary', 'Facebook', 55.0, 3.0, 17.0, 7.0, 12.0, 'Neutral'),\n",
    "    (382.0, 24.0, 'Non-binary', 'Snapchat', 85.0, 3.0, 33.0, 20.0, 18.0, 'Happiness'),\n",
    "    (505.0, 33.0, 'Male', 'LinkedIn', 45.0, 1.0, 10.0, 5.0, 12.0, 'Boredom'),\n",
    "    (20.0, 32.0, 'Female', 'Instagram', 140.0, 5.0, 70.0, 22.0, 33.0, 'Happiness'),\n",
    "    (444.0, 23.0, 'Non-binary', 'Facebook', 105.0, 2.0, 25.0, 12.0, 18.0, 'Neutral'),\n",
    "    (720.0, 32.0, 'Female', 'Instagram', 140.0, 6.0, 75.0, 28.0, 30.0, 'Happiness'),\n",
    "    (328.0, 25.0, 'Female', 'Instagram', 160.0, 6.0, 85.0, 26.0, 30.0, 'Happiness'),\n",
    "]\n",
    "\n",
    "# Insert data into the table\n",
    "for row in data:\n",
    "    row_key = str(int(row[0])).encode('utf-8')  # Use User_ID as the row key\n",
    "    table.put(row_key, {\n",
    "        b'cf:Age': str(row[1]).encode('utf-8'),\n",
    "        b'cf:Gender': row[2].encode('utf-8'),\n",
    "        b'cf:Platform': row[3].encode('utf-8'),\n",
    "        b'cf:Daily_Usage_Time': str(row[4]).encode('utf-8'),\n",
    "        b'cf:Posts_Per_Day': str(row[5]).encode('utf-8'),\n",
    "        b'cf:Likes_Received_Per_Day': str(row[6]).encode('utf-8'),\n",
    "        b'cf:Comments_Received_Per_Day': str(row[7]).encode('utf-8'),\n",
    "        b'cf:Messages_Sent_Per_Day': str(row[8]).encode('utf-8'),\n",
    "        b'cf:Dominant_Emotion': row[9].encode('utf-8')\n",
    "    })\n",
    "print(\"Data inserted\")\n",
    "\n",
    "# Retrieve and display the data\n",
    "print(\"Retrieving and displaying all rows:\")\n",
    "for key, data in table.scan():\n",
    "    print(f\"Row key: {key}, Data: {data}\")\n",
    "\n",
    "# Close the connection\n",
    "connection.close()\n",
    "print(\"Connection to HBase closed\")\n"
   ]
  },
  {
   "cell_type": "markdown",
   "id": "2eb9f291-597d-42bb-b7a5-79e66302a2dd",
   "metadata": {},
   "source": [
    "## Different operation using pyspark and sqlspark"
   ]
  },
  {
   "cell_type": "code",
   "execution_count": 13,
   "id": "73adc10c-e616-4ea1-ac8d-0f87c13b5f56",
   "metadata": {},
   "outputs": [
    {
     "name": "stdout",
     "output_type": "stream",
     "text": [
      "Connection to HBase established\n",
      "Tables: [b'Kunden', b'Rechnungen', b'Socialmedia_activity', b'education', b'emp', b'my_database', b'table']\n",
      "Table user_activity created\n",
      "Data inserted\n"
     ]
    }
   ],
   "source": [
    "import happybase\n",
    "import random\n",
    "\n",
    "# Verbindung zu HBase herstellen\n",
    "connection = happybase.Connection(host='172.21.82.235', port=9090)\n",
    "connection.open()\n",
    "\n",
    "type(connection)\n",
    "print(\"Connection to HBase established\")\n",
    "# List existing tables\n",
    "tables = connection.tables()\n",
    "print(f\"Tables: {tables}\")\n",
    "# Define table name and column families\n",
    "table_name = 'user_activity'\n",
    "families = {\n",
    "    'cf': dict(),  # Column family for user activity data\n",
    "}\n",
    "\n",
    "# Create table if it does not exist\n",
    "if table_name.encode() not in connection.tables():\n",
    "    connection.create_table(table_name, families)\n",
    "    print(f\"Table {table_name} created\")\n",
    "else:\n",
    "    print(f\"Table {table_name} already exists\")\n",
    "\n",
    "# Get the table\n",
    "table = connection.table(table_name)\n",
    "\n",
    "# Data to be inserted\n",
    "data = [\n",
    "    (500.0, 27.0, 'Female', 'Snapchat', 120.0, 4.0, 40.0, 18.0, 22.0, 'Neutral'),\n",
    "    (488.0, 21.0, 'Non-binary', 'Snapchat', 60.0, 1.0, 18.0, 7.0, 12.0, 'Neutral'),\n",
    "    (776.0, 28.0, 'Non-binary', 'Snapchat', 115.0, 3.0, 38.0, 18.0, 27.0, 'Anxiety'),\n",
    "    (869.0, 27.0, 'Male', 'Telegram', 105.0, 3.0, 48.0, 20.0, 28.0, 'Anxiety'),\n",
    "    (573.0, 21.0, 'Non-binary', 'Facebook', 55.0, 3.0, 17.0, 7.0, 12.0, 'Neutral'),\n",
    "    (428.0, 25.0, 'Female', 'Instagram', 160.0, 6.0, 85.0, 26.0, 30.0, 'Happiness'),\n",
    "    (528.0, 25.0, 'Female', 'Instagram', 160.0, 6.0, 85.0, 26.0, 30.0, 'Happiness'),\n",
    "    (773.0, 21.0, 'Non-binary', 'Facebook', 55.0, 3.0, 17.0, 7.0, 12.0, 'Neutral'),\n",
    "    (382.0, 24.0, 'Non-binary', 'Snapchat', 85.0, 3.0, 33.0, 20.0, 18.0, 'Happiness'),\n",
    "    (505.0, 33.0, 'Male', 'LinkedIn', 45.0, 1.0, 10.0, 5.0, 12.0, 'Boredom'),\n",
    "    (20.0, 32.0, 'Female', 'Instagram', 140.0, 5.0, 70.0, 22.0, 33.0, 'Happiness'),\n",
    "    (444.0, 23.0, 'Non-binary', 'Facebook', 105.0, 2.0, 25.0, 12.0, 18.0, 'Neutral'),\n",
    "    (720.0, 32.0, 'Female', 'Instagram', 140.0, 6.0, 75.0, 28.0, 30.0, 'Happiness'),\n",
    "    (328.0, 25.0, 'Female', 'Instagram', 160.0, 6.0, 85.0, 26.0, 30.0, 'Happiness'),\n",
    "]\n",
    "\n",
    "# Insert data into the table\n",
    "for row in data:\n",
    "    row_key = str(int(row[0])).encode('utf-8')  # Use User_ID as the row key\n",
    "    table.put(row_key, {\n",
    "        b'cf:Age': str(row[1]).encode('utf-8'),\n",
    "        b'cf:Gender': row[2].encode('utf-8'),\n",
    "        b'cf:Platform': row[3].encode('utf-8'),\n",
    "        b'cf:Daily_Usage_Time': str(row[4]).encode('utf-8'),\n",
    "        b'cf:Posts_Per_Day': str(row[5]).encode('utf-8'),\n",
    "        b'cf:Likes_Received_Per_Day': str(row[6]).encode('utf-8'),\n",
    "        b'cf:Comments_Received_Per_Day': str(row[7]).encode('utf-8'),\n",
    "        b'cf:Messages_Sent_Per_Day': str(row[8]).encode('utf-8'),\n",
    "        b'cf:Dominant_Emotion': row[9].encode('utf-8')\n",
    "    })\n",
    "print(\"Data inserted\")\n",
    "\n"
   ]
  },
  {
   "cell_type": "markdown",
   "id": "3a72e13c-3319-449a-8629-30c505ca22ba",
   "metadata": {},
   "source": [
    "## Update a Specific Column"
   ]
  },
  {
   "cell_type": "code",
   "execution_count": 14,
   "id": "72a38dc9-fd37-4176-81ff-4756b3086909",
   "metadata": {},
   "outputs": [
    {
     "name": "stdout",
     "output_type": "stream",
     "text": [
      "Connection to HBase established\n",
      "Updated Daily_Usage_Time for User_ID 500.0\n"
     ]
    }
   ],
   "source": [
    "import happybase\n",
    "import random\n",
    "\n",
    "# Verbindung zu HBase herstellen\n",
    "connection = happybase.Connection(host='172.21.82.235', port=9090)\n",
    "connection.open()\n",
    "\n",
    "type(connection)\n",
    "print(\"Connection to HBase established\")\n",
    "\n",
    "# Get the table\n",
    "table = connection.table('user_activity')\n",
    "\n",
    "# Update Daily_Usage_Time for User_ID 500.0\n",
    "user_id = b'500'\n",
    "table.put(user_id, {b'cf:Daily_Usage_Time': b'150.0'})\n",
    "print(\"Updated Daily_Usage_Time for User_ID 500.0\")\n",
    "\n",
    "# Close the connection\n",
    "connection.close()\n"
   ]
  },
  {
   "cell_type": "markdown",
   "id": "4eb67f25-76fc-4489-b4e0-8096c98ab344",
   "metadata": {},
   "source": [
    "## Delete a Specific Column"
   ]
  },
  {
   "cell_type": "code",
   "execution_count": 15,
   "id": "28057aa9-024f-4e23-b9dc-bef40310cfac",
   "metadata": {},
   "outputs": [
    {
     "name": "stdout",
     "output_type": "stream",
     "text": [
      "Connection to HBase established\n",
      "Deleted Daily_Usage_Time for User_ID 500.0\n"
     ]
    }
   ],
   "source": [
    "import happybase\n",
    "import random\n",
    "\n",
    "# Verbindung zu HBase herstellen\n",
    "connection = happybase.Connection(host='172.21.82.235', port=9090)\n",
    "connection.open()\n",
    "\n",
    "type(connection)\n",
    "print(\"Connection to HBase established\")\n",
    "\n",
    "# Get the table\n",
    "table = connection.table('user_activity')\n",
    "\n",
    "# Delete the Daily_Usage_Time column for User_ID 500.0\n",
    "user_id = b'500'\n",
    "table.delete(user_id, columns=[b'cf:Daily_Usage_Time'])\n",
    "print(\"Deleted Daily_Usage_Time for User_ID 500.0\")\n",
    "\n",
    "# Close the connection\n",
    "connection.close()\n"
   ]
  },
  {
   "cell_type": "markdown",
   "id": "8da8fe41-1c6b-480e-b825-ec8a66bcfe32",
   "metadata": {},
   "source": [
    "## Delete an Entire Row"
   ]
  },
  {
   "cell_type": "code",
   "execution_count": 16,
   "id": "ac53b891-9768-4523-8f98-d65143725438",
   "metadata": {},
   "outputs": [
    {
     "name": "stdout",
     "output_type": "stream",
     "text": [
      "Connection to HBase established\n",
      "Deleted row for User_ID 500.0\n"
     ]
    }
   ],
   "source": [
    "import happybase\n",
    "import random\n",
    "\n",
    "# Verbindung zu HBase herstellen\n",
    "connection = happybase.Connection(host='172.21.82.235', port=9090)\n",
    "connection.open()\n",
    "\n",
    "type(connection)\n",
    "print(\"Connection to HBase established\")\n",
    "\n",
    "# Get the table\n",
    "table = connection.table('user_activity')\n",
    "\n",
    "# Delete the entire row for User_ID 500.0\n",
    "user_id = b'500'\n",
    "table.delete(user_id)\n",
    "print(\"Deleted row for User_ID 500.0\")\n",
    "\n",
    "# Close the connection\n",
    "connection.close()\n"
   ]
  },
  {
   "cell_type": "markdown",
   "id": "962e8a85-f61f-4627-897a-81a50461ec34",
   "metadata": {},
   "source": [
    "## Scan for Rows with a Prefix Filter"
   ]
  },
  {
   "cell_type": "code",
   "execution_count": 17,
   "id": "fee1c4ad-e4b5-44db-97a8-5371bf0c1871",
   "metadata": {},
   "outputs": [
    {
     "name": "stdout",
     "output_type": "stream",
     "text": [
      "Connection to HBase established\n",
      "Scanning for rows with PrefixFilter:\n",
      "Row key: b'505', Data: {b'cf:Age': b'33.0', b'cf:Comments_Received_Per_Day': b'5.0', b'cf:Daily_Usage_Time': b'45.0', b'cf:Dominant_Emotion': b'Boredom', b'cf:Gender': b'Male', b'cf:Likes_Received_Per_Day': b'10.0', b'cf:Messages_Sent_Per_Day': b'12.0', b'cf:Platform': b'LinkedIn', b'cf:Posts_Per_Day': b'1.0'}\n",
      "Row key: b'528', Data: {b'cf:Age': b'25.0', b'cf:Comments_Received_Per_Day': b'26.0', b'cf:Daily_Usage_Time': b'160.0', b'cf:Dominant_Emotion': b'Happiness', b'cf:Gender': b'Female', b'cf:Likes_Received_Per_Day': b'85.0', b'cf:Messages_Sent_Per_Day': b'30.0', b'cf:Platform': b'Instagram', b'cf:Posts_Per_Day': b'6.0'}\n",
      "Row key: b'573', Data: {b'cf:Age': b'21.0', b'cf:Comments_Received_Per_Day': b'7.0', b'cf:Daily_Usage_Time': b'55.0', b'cf:Dominant_Emotion': b'Neutral', b'cf:Gender': b'Non-binary', b'cf:Likes_Received_Per_Day': b'17.0', b'cf:Messages_Sent_Per_Day': b'12.0', b'cf:Platform': b'Facebook', b'cf:Posts_Per_Day': b'3.0'}\n"
     ]
    }
   ],
   "source": [
    "import happybase\n",
    "import random\n",
    "\n",
    "# Verbindung zu HBase herstellen\n",
    "connection = happybase.Connection(host='172.21.82.235', port=9090)\n",
    "connection.open()\n",
    "\n",
    "type(connection)\n",
    "print(\"Connection to HBase established\")\n",
    "\n",
    "# Get the table\n",
    "table = connection.table('user_activity')\n",
    "\n",
    "# Define the prefix you want to search for\n",
    "prefix = b'5'  # Searching for rows where row key starts with '5'\n",
    "\n",
    "# Define the filter using PrefixFilter\n",
    "scan_filter = f\"PrefixFilter ('{prefix.decode()}')\"\n",
    "\n",
    "# Scan with the filter\n",
    "print(\"Scanning for rows with PrefixFilter:\")\n",
    "for key, data in table.scan(filter=scan_filter):\n",
    "    print(f\"Row key: {key}, Data: {data}\")\n",
    "\n",
    "# Close the connection\n",
    "connection.close()\n"
   ]
  },
  {
   "cell_type": "markdown",
   "id": "e14a2042-a667-4921-bb76-7bc82e2377a8",
   "metadata": {},
   "source": [
    "## Retrieve Data from table"
   ]
  },
  {
   "cell_type": "code",
   "execution_count": 18,
   "id": "1870d323-5102-45d0-a419-7062cac108d7",
   "metadata": {},
   "outputs": [
    {
     "name": "stdout",
     "output_type": "stream",
     "text": [
      "Connection to HBase established\n",
      "Retrieving and displaying all rows:\n",
      "Row key: 20, Data: {b'cf:Age': b'32.0', b'cf:Comments_Received_Per_Day': b'22.0', b'cf:Daily_Usage_Time': b'140.0', b'cf:Dominant_Emotion': b'Happiness', b'cf:Gender': b'Female', b'cf:Likes_Received_Per_Day': b'70.0', b'cf:Messages_Sent_Per_Day': b'33.0', b'cf:Platform': b'Instagram', b'cf:Posts_Per_Day': b'5.0'}\n",
      "Row key: 328, Data: {b'cf:Age': b'25.0', b'cf:Comments_Received_Per_Day': b'26.0', b'cf:Daily_Usage_Time': b'160.0', b'cf:Dominant_Emotion': b'Happiness', b'cf:Gender': b'Female', b'cf:Likes_Received_Per_Day': b'85.0', b'cf:Messages_Sent_Per_Day': b'30.0', b'cf:Platform': b'Instagram', b'cf:Posts_Per_Day': b'6.0'}\n",
      "Row key: 382, Data: {b'cf:Age': b'24.0', b'cf:Comments_Received_Per_Day': b'20.0', b'cf:Daily_Usage_Time': b'85.0', b'cf:Dominant_Emotion': b'Happiness', b'cf:Gender': b'Non-binary', b'cf:Likes_Received_Per_Day': b'33.0', b'cf:Messages_Sent_Per_Day': b'18.0', b'cf:Platform': b'Snapchat', b'cf:Posts_Per_Day': b'3.0'}\n",
      "Row key: 428, Data: {b'cf:Age': b'25.0', b'cf:Comments_Received_Per_Day': b'26.0', b'cf:Daily_Usage_Time': b'160.0', b'cf:Dominant_Emotion': b'Happiness', b'cf:Gender': b'Female', b'cf:Likes_Received_Per_Day': b'85.0', b'cf:Messages_Sent_Per_Day': b'30.0', b'cf:Platform': b'Instagram', b'cf:Posts_Per_Day': b'6.0'}\n",
      "Row key: 444, Data: {b'cf:Age': b'23.0', b'cf:Comments_Received_Per_Day': b'12.0', b'cf:Daily_Usage_Time': b'105.0', b'cf:Dominant_Emotion': b'Neutral', b'cf:Gender': b'Non-binary', b'cf:Likes_Received_Per_Day': b'25.0', b'cf:Messages_Sent_Per_Day': b'18.0', b'cf:Platform': b'Facebook', b'cf:Posts_Per_Day': b'2.0'}\n",
      "Row key: 488, Data: {b'cf:Age': b'21.0', b'cf:Comments_Received_Per_Day': b'7.0', b'cf:Daily_Usage_Time': b'60.0', b'cf:Dominant_Emotion': b'Neutral', b'cf:Gender': b'Non-binary', b'cf:Likes_Received_Per_Day': b'18.0', b'cf:Messages_Sent_Per_Day': b'12.0', b'cf:Platform': b'Snapchat', b'cf:Posts_Per_Day': b'1.0'}\n",
      "Row key: 505, Data: {b'cf:Age': b'33.0', b'cf:Comments_Received_Per_Day': b'5.0', b'cf:Daily_Usage_Time': b'45.0', b'cf:Dominant_Emotion': b'Boredom', b'cf:Gender': b'Male', b'cf:Likes_Received_Per_Day': b'10.0', b'cf:Messages_Sent_Per_Day': b'12.0', b'cf:Platform': b'LinkedIn', b'cf:Posts_Per_Day': b'1.0'}\n",
      "Row key: 528, Data: {b'cf:Age': b'25.0', b'cf:Comments_Received_Per_Day': b'26.0', b'cf:Daily_Usage_Time': b'160.0', b'cf:Dominant_Emotion': b'Happiness', b'cf:Gender': b'Female', b'cf:Likes_Received_Per_Day': b'85.0', b'cf:Messages_Sent_Per_Day': b'30.0', b'cf:Platform': b'Instagram', b'cf:Posts_Per_Day': b'6.0'}\n",
      "Row key: 573, Data: {b'cf:Age': b'21.0', b'cf:Comments_Received_Per_Day': b'7.0', b'cf:Daily_Usage_Time': b'55.0', b'cf:Dominant_Emotion': b'Neutral', b'cf:Gender': b'Non-binary', b'cf:Likes_Received_Per_Day': b'17.0', b'cf:Messages_Sent_Per_Day': b'12.0', b'cf:Platform': b'Facebook', b'cf:Posts_Per_Day': b'3.0'}\n",
      "Row key: 720, Data: {b'cf:Age': b'32.0', b'cf:Comments_Received_Per_Day': b'28.0', b'cf:Daily_Usage_Time': b'140.0', b'cf:Dominant_Emotion': b'Happiness', b'cf:Gender': b'Female', b'cf:Likes_Received_Per_Day': b'75.0', b'cf:Messages_Sent_Per_Day': b'30.0', b'cf:Platform': b'Instagram', b'cf:Posts_Per_Day': b'6.0'}\n",
      "Row key: 773, Data: {b'cf:Age': b'21.0', b'cf:Comments_Received_Per_Day': b'7.0', b'cf:Daily_Usage_Time': b'55.0', b'cf:Dominant_Emotion': b'Neutral', b'cf:Gender': b'Non-binary', b'cf:Likes_Received_Per_Day': b'17.0', b'cf:Messages_Sent_Per_Day': b'12.0', b'cf:Platform': b'Facebook', b'cf:Posts_Per_Day': b'3.0'}\n",
      "Row key: 776, Data: {b'cf:Age': b'28.0', b'cf:Comments_Received_Per_Day': b'18.0', b'cf:Daily_Usage_Time': b'115.0', b'cf:Dominant_Emotion': b'Anxiety', b'cf:Gender': b'Non-binary', b'cf:Likes_Received_Per_Day': b'38.0', b'cf:Messages_Sent_Per_Day': b'27.0', b'cf:Platform': b'Snapchat', b'cf:Posts_Per_Day': b'3.0'}\n",
      "Row key: 869, Data: {b'cf:Age': b'27.0', b'cf:Comments_Received_Per_Day': b'20.0', b'cf:Daily_Usage_Time': b'105.0', b'cf:Dominant_Emotion': b'Anxiety', b'cf:Gender': b'Male', b'cf:Likes_Received_Per_Day': b'48.0', b'cf:Messages_Sent_Per_Day': b'28.0', b'cf:Platform': b'Telegram', b'cf:Posts_Per_Day': b'3.0'}\n"
     ]
    }
   ],
   "source": [
    "import happybase\n",
    "import random\n",
    "\n",
    "# Verbindung zu HBase herstellen\n",
    "connection = happybase.Connection(host='172.21.82.235', port=9090)\n",
    "connection.open()\n",
    "\n",
    "type(connection)\n",
    "print(\"Connection to HBase established\")\n",
    "\n",
    "# Get the table\n",
    "table = connection.table('user_activity')\n",
    "\n",
    "# Retrieve and display the data\n",
    "print(\"Retrieving and displaying all rows:\")\n",
    "for key, data in table.scan():\n",
    "    print(f\"Row key: {key.decode('utf-8')}, Data: {data}\")\n",
    "\n",
    "# Close the connection\n",
    "connection.close()\n"
   ]
  },
  {
   "cell_type": "markdown",
   "id": "3dea6c6c-8f36-436a-86c6-1fa0abc0520a",
   "metadata": {},
   "source": [
    "##  new_user_activity Table created,value inserted and different operations performed"
   ]
  },
  {
   "cell_type": "code",
   "execution_count": 11,
   "id": "7929134a-4424-4266-8bca-aae43dcb4813",
   "metadata": {},
   "outputs": [
    {
     "name": "stdout",
     "output_type": "stream",
     "text": [
      "Connection to HBase established\n",
      "Table new_user_activity created\n"
     ]
    }
   ],
   "source": [
    "import happybase\n",
    "import random\n",
    "\n",
    "# Verbindung zu HBase herstellen\n",
    "connection = happybase.Connection(host='172.21.82.235', port=9090)\n",
    "connection.open()\n",
    "\n",
    "type(connection)\n",
    "print(\"Connection to HBase established\")\n",
    "\n",
    "# Check if table exists\n",
    "table_name = 'new_user_activity'\n",
    "tables = connection.tables()\n",
    "if table_name.encode() not in tables:\n",
    "    # Create the table with column family 'cf'\n",
    "    connection.create_table(table_name, {'cf': dict()})\n",
    "    print(f\"Table {table_name} created\")\n",
    "else:\n",
    "    print(f\"Table {table_name} already exists\")\n",
    "\n",
    "# Get the table\n",
    "table = connection.table(table_name)\n"
   ]
  },
  {
   "cell_type": "markdown",
   "id": "afff0f74-faff-4750-a67c-2334e24058e1",
   "metadata": {},
   "source": [
    "## Insert Initial Data  Daily_Usage_Time for User_ID 500 is 120"
   ]
  },
  {
   "cell_type": "code",
   "execution_count": 12,
   "id": "bceb6e24-754e-4594-b00c-074c3ec9394d",
   "metadata": {},
   "outputs": [
    {
     "name": "stdout",
     "output_type": "stream",
     "text": [
      "Inserted initial data for User_ID 500\n"
     ]
    }
   ],
   "source": [
    "# Insert initial data\n",
    "table.put(b'500', {\n",
    "    b'cf:Age': b'25.0',\n",
    "    b'cf:Gender': b'Male',\n",
    "    b'cf:Platform': b'Facebook',\n",
    "    b'cf:Daily_Usage_Time': b'120.0',\n",
    "    b'cf:Posts_Per_Day': b'4.0',\n",
    "    b'cf:Likes_Received_Per_Day': b'20.0',\n",
    "    b'cf:Comments_Received_Per_Day': b'8.0',\n",
    "    b'cf:Messages_Sent_Per_Day': b'15.0',\n",
    "    b'cf:Dominant_Emotion': b'Happy'\n",
    "})\n",
    "print(\"Inserted initial data for User_ID 500\")\n"
   ]
  },
  {
   "cell_type": "markdown",
   "id": "f83c4ced-6064-45fc-85e9-145040a9a8e7",
   "metadata": {},
   "source": [
    "##  Increment Daily_Usage_Time for User_ID 500 by 10"
   ]
  },
  {
   "cell_type": "code",
   "execution_count": 13,
   "id": "74983b47-5857-49ba-a5d4-164b35a05206",
   "metadata": {},
   "outputs": [
    {
     "name": "stdout",
     "output_type": "stream",
     "text": [
      "Incremented Daily_Usage_Time for User_ID 500 by 10\n"
     ]
    }
   ],
   "source": [
    "# Increment Daily_Usage_Time for User_ID 500 by 10\n",
    "user_id = b'500'\n",
    "row = table.row(user_id)\n",
    "current_value = row.get(b'cf:Daily_Usage_Time')\n",
    "\n",
    "if current_value:\n",
    "    new_value = float(current_value) + 10\n",
    "    table.put(user_id, {b'cf:Daily_Usage_Time': str(new_value).encode('utf-8')})\n",
    "    print(\"Incremented Daily_Usage_Time for User_ID 500 by 10\")\n",
    "else:\n",
    "    print(f\"No existing Daily_Usage_Time found for User_ID {user_id.decode('utf-8')}\")\n"
   ]
  },
  {
   "cell_type": "markdown",
   "id": "3a1f63a0-82f3-4702-b0d3-c9f055b380e4",
   "metadata": {},
   "source": [
    "## Display the  Daily_Usage_Time for User_ID 500 by 10"
   ]
  },
  {
   "cell_type": "code",
   "execution_count": 23,
   "id": "4f5ea118-b387-4fe3-b65a-6b9e61e97564",
   "metadata": {},
   "outputs": [
    {
     "name": "stdout",
     "output_type": "stream",
     "text": [
      "Connection to HBase established\n",
      "Scanning all data in table new_user_activity:\n",
      "Row key: b'500', Data: {b'cf:Age': b'25.0', b'cf:Comments_Received_Per_Day': b'8.0', b'cf:Daily_Usage_Time': b'130.0', b'cf:Dominant_Emotion': b'Happy', b'cf:Gender': b'Male', b'cf:Likes_Received_Per_Day': b'20.0', b'cf:Messages_Sent_Per_Day': b'15.0', b'cf:Platform': b'Facebook', b'cf:Posts_Per_Day': b'4.0'}\n",
      "Connection to HBase closed\n"
     ]
    }
   ],
   "source": [
    "import happybase\n",
    "import random\n",
    "\n",
    "# Verbindung zu HBase herstellen\n",
    "connection = happybase.Connection(host='172.21.82.235', port=9090)\n",
    "connection.open()\n",
    "\n",
    "type(connection)\n",
    "print(\"Connection to HBase established\")\n",
    "\n",
    "# Get the table\n",
    "table_name = 'new_user_activity'\n",
    "table = connection.table(table_name)\n",
    "\n",
    "# Scan and display all data in the table\n",
    "print(f\"Scanning all data in table {table_name}:\")\n",
    "for key, data in table.scan():\n",
    "    print(f\"Row key: {key}, Data: {data}\")\n",
    "\n",
    "# Close the connection\n",
    "connection.close()\n",
    "print(\"Connection to HBase closed\")\n"
   ]
  },
  {
   "cell_type": "markdown",
   "id": "451e0ce4-7f99-49a7-b80f-03503d1e052f",
   "metadata": {},
   "source": [
    "## Check and Put Operation"
   ]
  },
  {
   "cell_type": "code",
   "execution_count": 25,
   "id": "873c7fe7-72dc-4f57-943a-92e3238f2bd3",
   "metadata": {},
   "outputs": [
    {
     "name": "stdout",
     "output_type": "stream",
     "text": [
      "Updated cf:Daily_Usage_Time for User_ID 500 to 150.0\n",
      "Connection to HBase closed\n"
     ]
    }
   ],
   "source": [
    "# Check and Put operation\n",
    "def check_and_put(user_id, column_family, column, check_value, new_value):\n",
    "    user_id_bytes = user_id.encode('utf-8')\n",
    "    column_bytes = f'{column_family}:{column}'.encode('utf-8')\n",
    "    \n",
    "    # Get the current value\n",
    "    row = table.row(user_id_bytes)\n",
    "    current_value = row.get(column_bytes)\n",
    "    \n",
    "    if current_value == check_value.encode('utf-8'):\n",
    "        table.put(user_id_bytes, {column_bytes: new_value.encode('utf-8')})\n",
    "        print(f\"Updated {column_family}:{column} for User_ID {user_id} to {new_value}\")\n",
    "    else:\n",
    "        print(f\"No update performed. Current value: {current_value.decode('utf-8')}, Expected value: {check_value}\")\n",
    "\n",
    "# Example usage\n",
    "user_id = '500'\n",
    "column_family = 'cf'\n",
    "column = 'Daily_Usage_Time'\n",
    "check_value = '130.0'\n",
    "new_value = '150.0'\n",
    "\n",
    "check_and_put(user_id, column_family, column, check_value, new_value)\n",
    "\n",
    "# Close the connection\n",
    "connection.close()\n",
    "print(\"Connection to HBase closed\")\n"
   ]
  },
  {
   "cell_type": "markdown",
   "id": "2efbf61a-866a-4196-83ce-19e2cfebfdbd",
   "metadata": {},
   "source": [
    "## Batch mutation"
   ]
  },
  {
   "cell_type": "code",
   "execution_count": 31,
   "id": "c5beb900-d494-4fa2-adc0-0de8cf4e0c9d",
   "metadata": {},
   "outputs": [
    {
     "name": "stdout",
     "output_type": "stream",
     "text": [
      "Table ready for operations\n",
      "Batch operations completed\n",
      "Connection to HBase closed\n"
     ]
    }
   ],
   "source": [
    "import happybase\n",
    "\n",
    "# Establish connection to HBase\n",
    "connection = happybase.Connection(host='172.21.82.235', port=9090)\n",
    "connection.open()\n",
    "\n",
    "# Table and column family names\n",
    "table_name = 'new_user_activity'\n",
    "column_family = 'cf'\n",
    "\n",
    "# Create table if it doesn't exist\n",
    "if table_name.encode('utf-8') not in connection.tables():\n",
    "    connection.create_table(\n",
    "        table_name,\n",
    "        {column_family: dict()}\n",
    "    )\n",
    "\n",
    "print(\"Table ready for operations\")\n",
    "\n",
    "# Access the table\n",
    "table = connection.table(table_name)\n",
    "\n",
    "# Perform batch operations\n",
    "with table.batch() as b:\n",
    "    # Update Daily_Usage_Time for User_ID 500 to 150.0\n",
    "    b.put(b'500', {b'cf:Daily_Usage_Time': b'150.0'})\n",
    "    # Delete Posts_Per_Day for User_ID 488\n",
    "    b.delete(b'488', columns=[b'cf:Posts_Per_Day'])\n",
    "    # Insert a new row for User_ID 1000\n",
    "    b.put(b'1000', {\n",
    "        b'cf:Age': b'29.0',\n",
    "        b'cf:Gender': b'Female',\n",
    "        b'cf:Platform': b'Twitter',\n",
    "        b'cf:Daily_Usage_Time': b'95.0',\n",
    "        b'cf:Posts_Per_Day': b'5.0',\n",
    "        b'cf:Likes_Received_Per_Day': b'30.0',\n",
    "        b'cf:Comments_Received_Per_Day': b'10.0',\n",
    "        b'cf:Messages_Sent_Per_Day': b'20.0',\n",
    "        b'cf:Dominant_Emotion': b'Excited'\n",
    "    })\n",
    "print(\"Batch operations completed\")\n",
    "\n",
    "# Close the connection\n",
    "connection.close()\n",
    "print(\"Connection to HBase closed\")\n"
   ]
  },
  {
   "cell_type": "markdown",
   "id": "bed8eebe-a6e2-49dc-8b8d-2da19cac43e9",
   "metadata": {},
   "source": [
    "## Filtering particular column"
   ]
  },
  {
   "cell_type": "code",
   "execution_count": 36,
   "id": "375c3828-bd1a-4a16-bdfc-c6e0d50d6922",
   "metadata": {},
   "outputs": [
    {
     "name": "stdout",
     "output_type": "stream",
     "text": [
      "Scanning for rows where Platform is Instagram:\n",
      "Connection to HBase closed\n"
     ]
    }
   ],
   "source": [
    "import happybase\n",
    "\n",
    "# Establish connection to HBase\n",
    "connection = happybase.Connection(host='172.21.82.235', port=9090)\n",
    "connection.open()\n",
    "\n",
    "# Table and column family names\n",
    "table_name = 'new_user_activity'\n",
    "column_family = 'cf'\n",
    "\n",
    "# Access the table\n",
    "table = connection.table(table_name)\n",
    "\n",
    "def filtered_scan(filter_str):\n",
    "    try:\n",
    "        print(f\"Scanning for rows where Platform is Instagram:\")\n",
    "        for key, data in table.scan(filter=filter_str):\n",
    "            print(f\"Row key: {key.decode('utf-8')}, Data: {data}\")\n",
    "    except Exception as e:\n",
    "        print(f\"Error during filtered scan: {e}\")\n",
    "\n",
    "# Define the filter string for Platform equals 'Instagram'\n",
    "filter_str = \"SingleColumnValueFilter('cf', 'Platform', =, 'binary:Instagram')\"\n",
    "\n",
    "# Perform the filtered scan\n",
    "filtered_scan(filter_str)\n",
    "\n",
    "# Close the connection\n",
    "connection.close()\n",
    "print(\"Connection to HBase closed\")\n"
   ]
  },
  {
   "cell_type": "markdown",
   "id": "ef653f31-d094-4a09-9106-8ce553046390",
   "metadata": {},
   "source": [
    "## Perform the key range scan"
   ]
  },
  {
   "cell_type": "code",
   "execution_count": 37,
   "id": "b3a52f37-2cb7-416c-ab09-7c852f0f0796",
   "metadata": {},
   "outputs": [
    {
     "name": "stdout",
     "output_type": "stream",
     "text": [
      "Scanning rows with keys between b'400' and b'600':\n",
      "Row key: 500, Data: {b'cf:Age': b'25.0', b'cf:Comments_Received_Per_Day': b'8.0', b'cf:Daily_Usage_Time': b'150.0', b'cf:Dominant_Emotion': b'Happy', b'cf:Gender': b'Male', b'cf:Likes_Received_Per_Day': b'20.0', b'cf:Messages_Sent_Per_Day': b'15.0', b'cf:Platform': b'Facebook', b'cf:Posts_Per_Day': b'4.0'}\n",
      "Connection to HBase closed\n"
     ]
    }
   ],
   "source": [
    "import happybase\n",
    "\n",
    "# Establish connection to HBase\n",
    "connection = happybase.Connection(host='172.21.82.235', port=9090)\n",
    "connection.open()\n",
    "\n",
    "# Table name\n",
    "table_name = 'new_user_activity'\n",
    "\n",
    "# Access the table\n",
    "table = connection.table(table_name)\n",
    "\n",
    "def key_range_scan(start_key, end_key):\n",
    "    try:\n",
    "        print(f\"Scanning rows with keys between {start_key} and {end_key}:\")\n",
    "        for key, data in table.scan(row_start=start_key, row_stop=end_key):\n",
    "            print(f\"Row key: {key.decode('utf-8')}, Data: {data}\")\n",
    "    except Exception as e:\n",
    "        print(f\"Error during key range scan: {e}\")\n",
    "\n",
    "# Define the start and end keys for the scan\n",
    "start_key = b'400'\n",
    "end_key = b'600'\n",
    "\n",
    "# Perform the key range scan\n",
    "key_range_scan(start_key, end_key)\n",
    "\n",
    "# Close the connection\n",
    "connection.close()\n",
    "print(\"Connection to HBase closed\")\n"
   ]
  }
 ],
 "metadata": {
  "kernelspec": {
   "display_name": "Python 3 (ipykernel)",
   "language": "python",
   "name": "python3"
  },
  "language_info": {
   "codemirror_mode": {
    "name": "ipython",
    "version": 3
   },
   "file_extension": ".py",
   "mimetype": "text/x-python",
   "name": "python",
   "nbconvert_exporter": "python",
   "pygments_lexer": "ipython3",
   "version": "3.10.11"
  }
 },
 "nbformat": 4,
 "nbformat_minor": 5
}
