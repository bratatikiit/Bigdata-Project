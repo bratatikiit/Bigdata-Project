{
 "cells": [
  {
   "cell_type": "code",
   "execution_count": 10,
   "id": "167743a7-e0f7-48dd-8495-9ac79ab3f853",
   "metadata": {},
   "outputs": [
    {
     "name": "stdout",
     "output_type": "stream",
     "text": [
      "root\n",
      " |-- firstname: string (nullable = true)\n",
      " |-- middlename: string (nullable = true)\n",
      " |-- lastname: string (nullable = true)\n",
      " |-- dob: string (nullable = true)\n",
      " |-- gender: string (nullable = true)\n",
      " |-- salary: long (nullable = true)\n",
      "\n",
      "None\n",
      "+---------+----------+--------+----------+------+------+\n",
      "|firstname|middlename|lastname|       dob|gender|salary|\n",
      "+---------+----------+--------+----------+------+------+\n",
      "|    James|          |   Smith|1991-04-01|     M|  3000|\n",
      "|  Michael|      Rose|        |2000-05-19|     M|  4000|\n",
      "|   Robert|          |Williams|1978-09-05|     M|  4000|\n",
      "|    Maria|      Anne|   Jones|1967-12-01|     F|  4000|\n",
      "|      Jen|      Mary|   Brown|1980-02-17|     F|    -1|\n",
      "+---------+----------+--------+----------+------+------+\n",
      "\n",
      "None\n"
     ]
    }
   ],
   "source": [
    "data = [('James','','Smith','1991-04-01','M',3000),\n",
    "  ('Michael','Rose','','2000-05-19','M',4000),\n",
    "  ('Robert','','Williams','1978-09-05','M',4000),\n",
    "  ('Maria','Anne','Jones','1967-12-01','F',4000),\n",
    "  ('Jen','Mary','Brown','1980-02-17','F',-1)\n",
    "]\n",
    "\n",
    "columns = [\"firstname\",\"middlename\",\"lastname\",\"dob\",\"gender\",\"salary\"]\n",
    "\n",
    "from pyspark.sql import SparkSession\n",
    "from pyspark.sql.functions import col\n",
    "\n",
    "spark = SparkSession.builder.appName('SparkByExamples.com').getOrCreate()\n",
    "\n",
    "df = spark.createDataFrame(data=data, schema = columns)\n",
    "\n",
    "print(df.printSchema())\n",
    "print(df.show())\n"
   ]
  },
  {
   "cell_type": "code",
   "execution_count": 12,
   "id": "7dc72f14-21b8-4177-a6a5-9d385a0fe1fe",
   "metadata": {},
   "outputs": [
    {
     "name": "stdout",
     "output_type": "stream",
     "text": [
      "+---------+----------+--------+----------+------+------+\n",
      "|firstname|middlename|lastname|       dob|gender|salary|\n",
      "+---------+----------+--------+----------+------+------+\n",
      "|    James|          |   Smith|1991-04-01|     M|  3000|\n",
      "|  Michael|      Rose|        |2000-05-19|     M|  4000|\n",
      "|   Robert|          |Williams|1978-09-05|     M|  4000|\n",
      "|    Maria|      Anne|   Jones|1967-12-01|     F|  4000|\n",
      "|      Jen|      Mary|   Brown|1980-02-17|     F|    -1|\n",
      "+---------+----------+--------+----------+------+------+\n",
      "\n",
      "root\n",
      " |-- firstname: string (nullable = true)\n",
      " |-- middlename: string (nullable = true)\n",
      " |-- lastname: string (nullable = true)\n",
      " |-- dob: string (nullable = true)\n",
      " |-- gender: string (nullable = true)\n",
      " |-- salary: long (nullable = true)\n",
      "\n",
      "None\n"
     ]
    }
   ],
   "source": [
    "df.withColumn(\"salary\",col(\"salary\").cast(\"Integer\")).show()\n",
    "print(df.printSchema())"
   ]
  },
  {
   "cell_type": "code",
   "execution_count": 13,
   "id": "f602d6af-0a67-481b-8fdd-b493920a9b4b",
   "metadata": {},
   "outputs": [
    {
     "name": "stdout",
     "output_type": "stream",
     "text": [
      "+---------+----------+--------+----------+------+------+\n",
      "|firstname|middlename|lastname|       dob|gender|salary|\n",
      "+---------+----------+--------+----------+------+------+\n",
      "|    James|          |   Smith|1991-04-01|     M|300000|\n",
      "|  Michael|      Rose|        |2000-05-19|     M|400000|\n",
      "|   Robert|          |Williams|1978-09-05|     M|400000|\n",
      "|    Maria|      Anne|   Jones|1967-12-01|     F|400000|\n",
      "|      Jen|      Mary|   Brown|1980-02-17|     F|  -100|\n",
      "+---------+----------+--------+----------+------+------+\n",
      "\n"
     ]
    }
   ],
   "source": [
    "df.withColumn(\"salary\",col(\"salary\")*100).show()\n"
   ]
  },
  {
   "cell_type": "code",
   "execution_count": 24,
   "id": "2ab8dbb3-96d4-44e1-92e0-8ae35aac4bb2",
   "metadata": {},
   "outputs": [
    {
     "name": "stdout",
     "output_type": "stream",
     "text": [
      "+---------+----------+--------+----------+------+------+\n",
      "|firstname|middlename|lastname|       dob|gender|salary|\n",
      "+---------+----------+--------+----------+------+------+\n",
      "|    James|          |   Smith|1991-04-01|     M|   100|\n",
      "|  Michael|      Rose|        |2000-05-19|     M|   100|\n",
      "|   Robert|          |Williams|1978-09-05|     M|   100|\n",
      "|    Maria|      Anne|   Jones|1967-12-01|     F|   100|\n",
      "|      Jen|      Mary|   Brown|1980-02-17|     F|   100|\n",
      "+---------+----------+--------+----------+------+------+\n",
      "\n"
     ]
    }
   ],
   "source": [
    "df.withColumn(\"salary\",lit(100)).show()\n"
   ]
  },
  {
   "cell_type": "code",
   "execution_count": 22,
   "id": "b8f32e6e-0a5a-45c6-bbdb-354a9413f2a2",
   "metadata": {},
   "outputs": [
    {
     "name": "stdout",
     "output_type": "stream",
     "text": [
      "+---------+----------+--------+----------+------+------+-------+\n",
      "|firstname|middlename|lastname|       dob|gender|salary|Country|\n",
      "+---------+----------+--------+----------+------+------+-------+\n",
      "|    James|          |   Smith|1991-04-01|     M|  3000|    USA|\n",
      "|  Michael|      Rose|        |2000-05-19|     M|  4000|    USA|\n",
      "|   Robert|          |Williams|1978-09-05|     M|  4000|    USA|\n",
      "|    Maria|      Anne|   Jones|1967-12-01|     F|  4000|    USA|\n",
      "|      Jen|      Mary|   Brown|1980-02-17|     F|    -1|    USA|\n",
      "+---------+----------+--------+----------+------+------+-------+\n",
      "\n",
      "+---------+----------+--------+----------+------+------+-------+-------------+\n",
      "|firstname|middlename|lastname|       dob|gender|salary|Country|anotherColumn|\n",
      "+---------+----------+--------+----------+------+------+-------+-------------+\n",
      "|    James|          |   Smith|1991-04-01|     M|  3000|    USA| anotherValue|\n",
      "|  Michael|      Rose|        |2000-05-19|     M|  4000|    USA| anotherValue|\n",
      "|   Robert|          |Williams|1978-09-05|     M|  4000|    USA| anotherValue|\n",
      "|    Maria|      Anne|   Jones|1967-12-01|     F|  4000|    USA| anotherValue|\n",
      "|      Jen|      Mary|   Brown|1980-02-17|     F|    -1|    USA| anotherValue|\n",
      "+---------+----------+--------+----------+------+------+-------+-------------+\n",
      "\n"
     ]
    }
   ],
   "source": [
    "\n",
    "from pyspark.sql.functions import lit\n",
    "\n",
    "df.withColumn(\"Country\", lit(\"USA\")).show()\n",
    "df.withColumn(\"Country\", lit(\"USA\")) \\\n",
    "  .withColumn(\"anotherColumn\",lit(\"anotherValue\")) \\\n",
    "  .show()\n"
   ]
  },
  {
   "cell_type": "code",
   "execution_count": 28,
   "id": "cd997d7c-07df-4e95-87fe-10dd9af47940",
   "metadata": {},
   "outputs": [
    {
     "name": "stdout",
     "output_type": "stream",
     "text": [
      "+---------+----------+--------+----------+----------+------+\n",
      "|firstname|middlename|lastname|dob       |Geschlecht|salary|\n",
      "+---------+----------+--------+----------+----------+------+\n",
      "|James    |          |Smith   |1991-04-01|M         |3000  |\n",
      "|Michael  |Rose      |        |2000-05-19|M         |4000  |\n",
      "|Robert   |          |Williams|1978-09-05|M         |4000  |\n",
      "|Maria    |Anne      |Jones   |1967-12-01|F         |4000  |\n",
      "|Jen      |Mary      |Brown   |1980-02-17|F         |-1    |\n",
      "+---------+----------+--------+----------+----------+------+\n",
      "\n"
     ]
    }
   ],
   "source": [
    "df.withColumnRenamed(\"gender\",\"Geschlecht\").show(truncate=False) \n"
   ]
  },
  {
   "cell_type": "code",
   "execution_count": 29,
   "id": "bdd6c1e2-202b-4425-8942-5cfa2d54884e",
   "metadata": {},
   "outputs": [
    {
     "name": "stdout",
     "output_type": "stream",
     "text": [
      "root\n",
      " |-- firstname: string (nullable = true)\n",
      " |-- middlename: string (nullable = true)\n",
      " |-- lastname: string (nullable = true)\n",
      " |-- dob: string (nullable = true)\n",
      " |-- gender: string (nullable = true)\n",
      " |-- salary: long (nullable = true)\n",
      "\n"
     ]
    }
   ],
   "source": [
    "df.printSchema()"
   ]
  },
  {
   "cell_type": "code",
   "execution_count": 30,
   "id": "81211667-020d-4a5a-bd92-1f063c3badea",
   "metadata": {},
   "outputs": [
    {
     "name": "stdout",
     "output_type": "stream",
     "text": [
      "+---------+----------+--------+----------+------+\n",
      "|firstname|middlename|lastname|       dob|gender|\n",
      "+---------+----------+--------+----------+------+\n",
      "|    James|          |   Smith|1991-04-01|     M|\n",
      "|  Michael|      Rose|        |2000-05-19|     M|\n",
      "|   Robert|          |Williams|1978-09-05|     M|\n",
      "|    Maria|      Anne|   Jones|1967-12-01|     F|\n",
      "|      Jen|      Mary|   Brown|1980-02-17|     F|\n",
      "+---------+----------+--------+----------+------+\n",
      "\n"
     ]
    }
   ],
   "source": [
    "df.drop(\"salary\").show() \n"
   ]
  },
  {
   "cell_type": "code",
   "execution_count": 31,
   "id": "6bea77ba-2265-4ece-bec5-0e5c60fba47b",
   "metadata": {},
   "outputs": [
    {
     "name": "stdout",
     "output_type": "stream",
     "text": [
      "root\n",
      " |-- firstname: string (nullable = true)\n",
      " |-- middlename: string (nullable = true)\n",
      " |-- lastname: string (nullable = true)\n",
      " |-- dob: string (nullable = true)\n",
      " |-- gender: string (nullable = true)\n",
      " |-- salary: long (nullable = true)\n",
      "\n",
      "+---------+----------+--------+----------+------+------+\n",
      "|firstname|middlename|lastname|dob       |gender|salary|\n",
      "+---------+----------+--------+----------+------+------+\n",
      "|James    |          |Smith   |1991-04-01|M     |3000  |\n",
      "|Michael  |Rose      |        |2000-05-19|M     |4000  |\n",
      "|Robert   |          |Williams|1978-09-05|M     |4000  |\n",
      "|Maria    |Anne      |Jones   |1967-12-01|F     |4000  |\n",
      "|Jen      |Mary      |Brown   |1980-02-17|F     |-1    |\n",
      "+---------+----------+--------+----------+------+------+\n",
      "\n",
      "root\n",
      " |-- firstname: string (nullable = true)\n",
      " |-- middlename: string (nullable = true)\n",
      " |-- lastname: string (nullable = true)\n",
      " |-- dob: string (nullable = true)\n",
      " |-- gender: string (nullable = true)\n",
      " |-- salary: integer (nullable = true)\n",
      "\n",
      "+---------+----------+--------+----------+------+------+\n",
      "|firstname|middlename|lastname|dob       |gender|salary|\n",
      "+---------+----------+--------+----------+------+------+\n",
      "|James    |          |Smith   |1991-04-01|M     |3000  |\n",
      "|Michael  |Rose      |        |2000-05-19|M     |4000  |\n",
      "|Robert   |          |Williams|1978-09-05|M     |4000  |\n",
      "|Maria    |Anne      |Jones   |1967-12-01|F     |4000  |\n",
      "|Jen      |Mary      |Brown   |1980-02-17|F     |-1    |\n",
      "+---------+----------+--------+----------+------+------+\n",
      "\n",
      "root\n",
      " |-- firstname: string (nullable = true)\n",
      " |-- middlename: string (nullable = true)\n",
      " |-- lastname: string (nullable = true)\n",
      " |-- dob: string (nullable = true)\n",
      " |-- gender: string (nullable = true)\n",
      " |-- salary: long (nullable = true)\n",
      "\n",
      "+---------+----------+--------+----------+------+------+\n",
      "|firstname|middlename|lastname|dob       |gender|salary|\n",
      "+---------+----------+--------+----------+------+------+\n",
      "|James    |          |Smith   |1991-04-01|M     |300000|\n",
      "|Michael  |Rose      |        |2000-05-19|M     |400000|\n",
      "|Robert   |          |Williams|1978-09-05|M     |400000|\n",
      "|Maria    |Anne      |Jones   |1967-12-01|F     |400000|\n",
      "|Jen      |Mary      |Brown   |1980-02-17|F     |-100  |\n",
      "+---------+----------+--------+----------+------+------+\n",
      "\n",
      "root\n",
      " |-- firstname: string (nullable = true)\n",
      " |-- middlename: string (nullable = true)\n",
      " |-- lastname: string (nullable = true)\n",
      " |-- dob: string (nullable = true)\n",
      " |-- gender: string (nullable = true)\n",
      " |-- salary: long (nullable = true)\n",
      " |-- CopiedColumn: long (nullable = true)\n",
      "\n",
      "root\n",
      " |-- firstname: string (nullable = true)\n",
      " |-- middlename: string (nullable = true)\n",
      " |-- lastname: string (nullable = true)\n",
      " |-- dob: string (nullable = true)\n",
      " |-- gender: string (nullable = true)\n",
      " |-- salary: long (nullable = true)\n",
      " |-- Country: string (nullable = false)\n",
      "\n",
      "root\n",
      " |-- firstname: string (nullable = true)\n",
      " |-- middlename: string (nullable = true)\n",
      " |-- lastname: string (nullable = true)\n",
      " |-- dob: string (nullable = true)\n",
      " |-- gender: string (nullable = true)\n",
      " |-- salary: long (nullable = true)\n",
      " |-- Country: string (nullable = false)\n",
      " |-- anotherColumn: string (nullable = false)\n",
      "\n",
      "+---------+----------+--------+----------+---+------+\n",
      "|firstname|middlename|lastname|dob       |sex|salary|\n",
      "+---------+----------+--------+----------+---+------+\n",
      "|James    |          |Smith   |1991-04-01|M  |3000  |\n",
      "|Michael  |Rose      |        |2000-05-19|M  |4000  |\n",
      "|Robert   |          |Williams|1978-09-05|M  |4000  |\n",
      "|Maria    |Anne      |Jones   |1967-12-01|F  |4000  |\n",
      "|Jen      |Mary      |Brown   |1980-02-17|F  |-1    |\n",
      "+---------+----------+--------+----------+---+------+\n",
      "\n",
      "+---------+----------+--------+----------+------+------+\n",
      "|firstname|middlename|lastname|dob       |gender|salary|\n",
      "+---------+----------+--------+----------+------+------+\n",
      "|James    |          |Smith   |1991-04-01|M     |3000  |\n",
      "|Michael  |Rose      |        |2000-05-19|M     |4000  |\n",
      "|Robert   |          |Williams|1978-09-05|M     |4000  |\n",
      "|Maria    |Anne      |Jones   |1967-12-01|F     |4000  |\n",
      "|Jen      |Mary      |Brown   |1980-02-17|F     |-1    |\n",
      "+---------+----------+--------+----------+------+------+\n",
      "\n",
      "root\n",
      " |-- name: struct (nullable = true)\n",
      " |    |-- firstname: string (nullable = true)\n",
      " |    |-- middlename: string (nullable = true)\n",
      " |    |-- lastname: string (nullable = true)\n",
      " |-- dob: string (nullable = true)\n",
      " |-- gender: string (nullable = true)\n",
      " |-- salary: string (nullable = true)\n",
      "\n",
      "+--------------------+-----+------+------+\n",
      "|name                |dob  |gender|salary|\n",
      "+--------------------+-----+------+------+\n",
      "|{James, , Smith}    |36636|M     |3000  |\n",
      "|{Michael, Rose, }   |40288|M     |4000  |\n",
      "|{Robert, , Williams}|42114|M     |4000  |\n",
      "|{Maria, Anne, Jones}|39192|F     |4000  |\n",
      "|{Jen, Mary, Brown}  |     |F     |-1    |\n",
      "+--------------------+-----+------+------+\n",
      "\n"
     ]
    },
    {
     "data": {
      "text/plain": [
       "'\\ncolumns = [\"name\",\"address\"]\\ndata = [(\"Robert, Smith\", \"1 Main st, Newark, NJ, 92537\"),         (\"Maria, Garcia\",\"3456 Walnut st, Newark, NJ, 94732\")]\\n\\ndfFromData = spark.createDataFrame(data=data, schema = schema)\\n\\nnewDF = dfFromData.map(f=>{\\nnameSplit = f.getAs[String](0).split(\",\")\\naddSplit = f.getAs[String](1).split(\",\")\\n      (nameSplit(0),nameSplit(1),addSplit(0),addSplit(1),addSplit(2),addSplit(3))\\n    })\\nfinalDF = newDF.toDF(\"First Name\",\"Last Name\",\\n             \"Address Line1\",\"City\",\"State\",\"zipCode\")\\nfinalDF.printSchema()\\nfinalDF.show(false)\\n'"
      ]
     },
     "execution_count": 31,
     "metadata": {},
     "output_type": "execute_result"
    }
   ],
   "source": [
    "# -*- coding: utf-8 -*-\n",
    "\"\"\"\n",
    "Created on Sun Jun 14 10:20:19 2020\n",
    "\"\"\"\n",
    "import pyspark\n",
    "from pyspark.sql import SparkSession\n",
    "from pyspark.sql.functions import col, lit\n",
    "from pyspark.sql.types import StructType, StructField, StringType,IntegerType\n",
    "\n",
    "spark = SparkSession.builder.appName('SparkByExamples.com').getOrCreate()\n",
    "\n",
    "data = [('James','','Smith','1991-04-01','M',3000),\n",
    "  ('Michael','Rose','','2000-05-19','M',4000),\n",
    "  ('Robert','','Williams','1978-09-05','M',4000),\n",
    "  ('Maria','Anne','Jones','1967-12-01','F',4000),\n",
    "  ('Jen','Mary','Brown','1980-02-17','F',-1)\n",
    "]\n",
    "\n",
    "columns = [\"firstname\",\"middlename\",\"lastname\",\"dob\",\"gender\",\"salary\"]\n",
    "df = spark.createDataFrame(data=data, schema = columns)\n",
    "df.printSchema()\n",
    "df.show(truncate=False)\n",
    "\n",
    "df2 = df.withColumn(\"salary\",col(\"salary\").cast(\"Integer\"))\n",
    "df2.printSchema()\n",
    "df2.show(truncate=False)\n",
    "\n",
    "df3 = df.withColumn(\"salary\",col(\"salary\")*100)\n",
    "df3.printSchema()\n",
    "df3.show(truncate=False) \n",
    "\n",
    "df4 = df.withColumn(\"CopiedColumn\",col(\"salary\")* -1)\n",
    "df4.printSchema()\n",
    "\n",
    "df5 = df.withColumn(\"Country\", lit(\"USA\"))\n",
    "df5.printSchema()\n",
    "\n",
    "df6 = df.withColumn(\"Country\", lit(\"USA\")) \\\n",
    "   .withColumn(\"anotherColumn\",lit(\"anotherValue\"))\n",
    "df6.printSchema()\n",
    "\n",
    "df.withColumnRenamed(\"gender\",\"sex\") \\\n",
    "  .show(truncate=False) \n",
    "  \n",
    "df4.drop(\"CopiedColumn\") \\\n",
    ".show(truncate=False) \n",
    "\n",
    "dataStruct = [((\"James\",\"\",\"Smith\"),\"36636\",\"M\",\"3000\"), \\\n",
    "      ((\"Michael\",\"Rose\",\"\"),\"40288\",\"M\",\"4000\"), \\\n",
    "      ((\"Robert\",\"\",\"Williams\"),\"42114\",\"M\",\"4000\"), \\\n",
    "      ((\"Maria\",\"Anne\",\"Jones\"),\"39192\",\"F\",\"4000\"), \\\n",
    "      ((\"Jen\",\"Mary\",\"Brown\"),\"\",\"F\",\"-1\") \\\n",
    "]\n",
    "\n",
    "schemaStruct = StructType([\n",
    "        StructField('name', StructType([\n",
    "             StructField('firstname', StringType(), True),\n",
    "             StructField('middlename', StringType(), True),\n",
    "             StructField('lastname', StringType(), True)\n",
    "             ])),\n",
    "          StructField('dob', StringType(), True),\n",
    "         StructField('gender', StringType(), True),\n",
    "         StructField('salary', StringType(), True)\n",
    "         ])\n",
    "\n",
    "\n",
    "df7 = spark.createDataFrame(data=dataStruct, schema = schemaStruct)\n",
    "df7.printSchema()\n",
    "df7.show(truncate=False)\n",
    "\n",
    "\n",
    "\"\"\"\n",
    "columns = [\"name\",\"address\"]\n",
    "data = [(\"Robert, Smith\", \"1 Main st, Newark, NJ, 92537\"), \\\n",
    "        (\"Maria, Garcia\",\"3456 Walnut st, Newark, NJ, 94732\")]\n",
    "\n",
    "dfFromData = spark.createDataFrame(data=data, schema = schema)\n",
    "\n",
    "newDF = dfFromData.map(f=>{\n",
    "nameSplit = f.getAs[String](0).split(\",\")\n",
    "addSplit = f.getAs[String](1).split(\",\")\n",
    "      (nameSplit(0),nameSplit(1),addSplit(0),addSplit(1),addSplit(2),addSplit(3))\n",
    "    })\n",
    "finalDF = newDF.toDF(\"First Name\",\"Last Name\",\n",
    "             \"Address Line1\",\"City\",\"State\",\"zipCode\")\n",
    "finalDF.printSchema()\n",
    "finalDF.show(false)\n",
    "\"\"\"\n"
   ]
  },
  {
   "cell_type": "code",
   "execution_count": null,
   "id": "8ddfedfc-40ca-4d8a-988e-13bde0129f2f",
   "metadata": {},
   "outputs": [],
   "source": []
  }
 ],
 "metadata": {
  "kernelspec": {
   "display_name": "Python 3 (ipykernel)",
   "language": "python",
   "name": "python3"
  },
  "language_info": {
   "codemirror_mode": {
    "name": "ipython",
    "version": 3
   },
   "file_extension": ".py",
   "mimetype": "text/x-python",
   "name": "python",
   "nbconvert_exporter": "python",
   "pygments_lexer": "ipython3",
   "version": "3.10.11"
  }
 },
 "nbformat": 4,
 "nbformat_minor": 5
}
