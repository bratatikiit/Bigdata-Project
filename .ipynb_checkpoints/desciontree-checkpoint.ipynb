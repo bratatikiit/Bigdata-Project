{
 "cells": [
  {
   "cell_type": "code",
   "execution_count": null,
   "id": "09c6fb16-8b01-464d-9ca5-b4d324aeca4b",
   "metadata": {},
   "outputs": [],
   "source": [
    "pip install scikit-learn\n"
   ]
  },
  {
   "cell_type": "code",
   "execution_count": null,
   "id": "0241b42f-1336-49eb-b983-82a2a4a1ad09",
   "metadata": {},
   "outputs": [],
   "source": [
    "pip install pmdarima\n"
   ]
  },
  {
   "cell_type": "code",
   "execution_count": 1,
   "id": "5a4f66b0-daaf-4c0b-ba2d-c495434dc645",
   "metadata": {},
   "outputs": [
    {
     "name": "stdout",
     "output_type": "stream",
     "text": [
      "     User_ID  Age      Gender  Platform  Daily_Usage_Time (minutes)  \\\n",
      "0        NaN  NaN         NaN       NaN                         NaN   \n",
      "1      500.0   27      Female  Snapchat                       120.0   \n",
      "2        NaN  NaN         NaN       NaN                         NaN   \n",
      "3      488.0   21  Non-binary  Snapchat                        60.0   \n",
      "4        NaN  NaN         NaN       NaN                         NaN   \n",
      "..       ...  ...         ...       ...                         ...   \n",
      "201    708.0   24  Non-binary  Facebook                       110.0   \n",
      "202      NaN  NaN         NaN       NaN                         NaN   \n",
      "203    993.0   24        Male  Telegram                        75.0   \n",
      "204      NaN  NaN         NaN       NaN                         NaN   \n",
      "205     60.0   27        Male  Facebook                        60.0   \n",
      "\n",
      "     Posts_Per_Day  Likes_Received_Per_Day  Comments_Received_Per_Day  \\\n",
      "0              NaN                     NaN                        NaN   \n",
      "1              4.0                    40.0                       18.0   \n",
      "2              NaN                     NaN                        NaN   \n",
      "3              1.0                    18.0                        7.0   \n",
      "4              NaN                     NaN                        NaN   \n",
      "..             ...                     ...                        ...   \n",
      "201            6.0                    35.0                       23.0   \n",
      "202            NaN                     NaN                        NaN   \n",
      "203            3.0                    37.0                       16.0   \n",
      "204            NaN                     NaN                        NaN   \n",
      "205            1.0                    10.0                        4.0   \n",
      "\n",
      "     Messages_Sent_Per_Day Dominant_Emotion  Emotion_Match  \n",
      "0                      NaN              NaN          False  \n",
      "1                     22.0          Neutral          False  \n",
      "2                      NaN              NaN          False  \n",
      "3                     12.0          Neutral          False  \n",
      "4                      NaN              NaN          False  \n",
      "..                     ...              ...            ...  \n",
      "201                   25.0          Sadness          False  \n",
      "202                    NaN              NaN          False  \n",
      "203                   22.0          Neutral          False  \n",
      "204                    NaN              NaN          False  \n",
      "205                   15.0          Boredom          False  \n",
      "\n",
      "[206 rows x 11 columns]\n"
     ]
    }
   ],
   "source": [
    "# Import necessary libraries\n",
    "import pandas as pd\n",
    "import re\n",
    "\n",
    "# Load the CSV file into a DataFrame\n",
    "df = pd.read_csv('test.csv')\n",
    "\n",
    "# Define a function for pattern matching\n",
    "def match_pattern(text, pattern):\n",
    "    return bool(re.search(pattern, text))\n",
    "\n",
    "# Define the pattern to match\n",
    "pattern = 'happy|joy|excited'  # Example pattern for dominant emotions\n",
    "\n",
    "# Apply the pattern matching function to the 'Dominant_Emotion' column\n",
    "df['Emotion_Match'] = df['Dominant_Emotion'].apply(lambda x: match_pattern(str(x), pattern))\n",
    "\n",
    "# Print the DataFrame with the new column\n",
    "print(df)\n"
   ]
  },
  {
   "cell_type": "code",
   "execution_count": null,
   "id": "9554800c-4f7f-4633-b052-45be7af0895b",
   "metadata": {},
   "outputs": [],
   "source": [
    "pip install Dash"
   ]
  },
  {
   "cell_type": "code",
   "execution_count": null,
   "id": "154694bb-9210-4956-a59c-8951e6bf8f13",
   "metadata": {},
   "outputs": [],
   "source": [
    "pip install Dash"
   ]
  },
  {
   "cell_type": "code",
   "execution_count": 2,
   "id": "bb430ea2-6111-446a-8216-ef9598a43e44",
   "metadata": {},
   "outputs": [
    {
     "data": {
      "text/html": [
       "\n",
       "        <iframe\n",
       "            width=\"100%\"\n",
       "            height=\"650\"\n",
       "            src=\"http://127.0.0.1:8050/\"\n",
       "            frameborder=\"0\"\n",
       "            allowfullscreen\n",
       "            \n",
       "        ></iframe>\n",
       "        "
      ],
      "text/plain": [
       "<IPython.lib.display.IFrame at 0x1ff226a1e40>"
      ]
     },
     "metadata": {},
     "output_type": "display_data"
    }
   ],
   "source": [
    "from dash import Dash, dcc, html, Input, Output\n",
    "from sklearn.model_selection import train_test_split\n",
    "from sklearn import linear_model, tree, neighbors\n",
    "import plotly.graph_objects as go\n",
    "import pandas as pd\n",
    "import numpy as np\n",
    "\n",
    "app = Dash(__name__)\n",
    "\n",
    "models = {\n",
    "    'Regression': linear_model.LinearRegression,\n",
    "    'Decision Tree': tree.DecisionTreeRegressor,\n",
    "    'k-NN': neighbors.KNeighborsRegressor\n",
    "}\n",
    "\n",
    "app.layout = html.Div([\n",
    "    html.H4(\"Predicting Social Media Effect\"),\n",
    "    html.P(\"Select model:\"),\n",
    "    dcc.Dropdown(\n",
    "        id='dropdown',\n",
    "        options=[{'label': model, 'value': model} for model in models],\n",
    "        value='Decision Tree',\n",
    "        clearable=False\n",
    "    ),\n",
    "    dcc.Graph(id=\"graph\"),\n",
    "])\n",
    "\n",
    "@app.callback(\n",
    "    Output(\"graph\", \"figure\"), \n",
    "    Input('dropdown', \"value\"))\n",
    "def train_and_display(name):\n",
    "    # Load the data from CSV file\n",
    "    df = pd.read_csv('test.csv')\n",
    "    \n",
    "    # Use relevant columns for the model\n",
    "    X = df[['Daily_Usage_Time (minutes)']].values\n",
    "    y = df['Likes_Received_Per_Day'].values\n",
    "    \n",
    "    # Remove rows with NaN values in X or y\n",
    "    mask = ~np.isnan(X).squeeze() & ~np.isnan(y)\n",
    "    X = X[mask].reshape(-1, 1)\n",
    "    y = y[mask]\n",
    "    \n",
    "    X_train, X_test, y_train, y_test = train_test_split(X, y, random_state=42)\n",
    "\n",
    "    model = models[name]()\n",
    "    model.fit(X_train, y_train)\n",
    "\n",
    "    x_range = np.linspace(X.min(), X.max(), 100).reshape(-1, 1)\n",
    "    y_range = model.predict(x_range)\n",
    "\n",
    "    fig = go.Figure([\n",
    "        go.Scatter(x=X_train.squeeze(), y=y_train, \n",
    "                   name='train', mode='markers'),\n",
    "        go.Scatter(x=X_test.squeeze(), y=y_test, \n",
    "                   name='test', mode='markers'),\n",
    "        go.Scatter(x=x_range.squeeze(), y=y_range, \n",
    "                   name='prediction', mode='lines')\n",
    "    ])\n",
    "    return fig\n",
    "\n",
    "if __name__ == '__main__':\n",
    "    app.run_server(debug=True)\n"
   ]
  },
  {
   "cell_type": "code",
   "execution_count": null,
   "id": "a17788ea-6537-4e51-a67d-c995e2c4c4d9",
   "metadata": {},
   "outputs": [],
   "source": []
  }
 ],
 "metadata": {
  "kernelspec": {
   "display_name": "Python 3 (ipykernel)",
   "language": "python",
   "name": "python3"
  },
  "language_info": {
   "codemirror_mode": {
    "name": "ipython",
    "version": 3
   },
   "file_extension": ".py",
   "mimetype": "text/x-python",
   "name": "python",
   "nbconvert_exporter": "python",
   "pygments_lexer": "ipython3",
   "version": "3.10.11"
  }
 },
 "nbformat": 4,
 "nbformat_minor": 5
}
